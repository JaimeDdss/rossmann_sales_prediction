{
 "cells": [
  {
   "cell_type": "markdown",
   "metadata": {},
   "source": [
    "# 0.0. IMPORTS"
   ]
  },
  {
   "cell_type": "code",
   "execution_count": 50,
   "metadata": {
    "ExecuteTime": {
     "end_time": "2022-11-25T14:49:14.686785Z",
     "start_time": "2022-11-25T14:49:14.680754Z"
    }
   },
   "outputs": [],
   "source": [
    "import pandas as pd\n",
    "import numpy  as np\n",
    "#import pickle as pi\n",
    "import inflection\n",
    "import math\n",
    "from IPython.display import Image\n",
    "#import warnings\n",
    "#\n",
    "#from pandas.plotting       import scatter_matrix\n",
    "#from pandas_profiling      import ProfileReport\n",
    "#\n",
    "import seaborn as sns\n",
    "from matplotlib            import pyplot as plt\n",
    "#from matplotlib.gridspec   import GridSpec\n",
    "#import plotly.express as px\n",
    "#import plotly.figure_factory as ff\n",
    "#\n",
    "from datetime import timedelta, datetime\n",
    "#import datetime \n",
    "#import re \n",
    "#\n",
    "#import statsmodels.api as sm\n",
    "#from iv                             import analise_iv as i\n",
    "#from matplotlib.widgets             import Button\n",
    "from IPython.core.display           import HTML\n",
    "#from tabulate                       import tabulate\n",
    "#\n",
    "## Data preprocessing\n",
    "#\n",
    "#from sklearn.preprocessing          import RobustScaler, MinMaxScaler, LabelEncoder, OrdinalEncoder\n",
    "#from sklearn.model_selection        import StratifiedShuffleSplit, StratifiedKFold, RepeatedStratifiedKFold\n",
    "#from sklearn.model_selection        import cross_val_score, cross_validate, cross_val_predict\n",
    "#from sklearn.model_selection        import train_test_split\n",
    "#from sklearn.model_selection        import RandomizedSearchCV, GridSearchCV\n",
    "#\n",
    "## Machine leaarning models\n",
    "#\n",
    "#from sklearn.linear_model           import LogisticRegression\n",
    "#\n",
    "#\n",
    "## Evaluating metrics\n",
    "#\n",
    "#from sklearn.metrics                import precision_score, recall_score, f1_score, roc_auc_score, accuracy_score\n",
    "#from sklern.metrics                 import confusion_matrix, precision_recall_curve\n",
    "#\n",
    "#\n",
    "#warnings.filterwarnings('ignore')\n",
    "#"
   ]
  },
  {
   "cell_type": "markdown",
   "metadata": {},
   "source": [
    "## 0.1. Helper Functions"
   ]
  },
  {
   "cell_type": "code",
   "execution_count": 2,
   "metadata": {
    "ExecuteTime": {
     "end_time": "2022-11-25T12:42:19.082473Z",
     "start_time": "2022-11-25T12:42:18.997788Z"
    }
   },
   "outputs": [
    {
     "name": "stdout",
     "output_type": "stream",
     "text": [
      "%pylab is deprecated, use %matplotlib inline and import the required libraries.\n",
      "Populating the interactive namespace from numpy and matplotlib\n"
     ]
    },
    {
     "data": {
      "text/html": [
       "<style>.container { width:100% !important; }</style>"
      ],
      "text/plain": [
       "<IPython.core.display.HTML object>"
      ]
     },
     "metadata": {},
     "output_type": "display_data"
    }
   ],
   "source": [
    "def jupyter_settings():\n",
    "    %matplotlib inline\n",
    "    %pylab inline\n",
    "    \n",
    "    plt.style.use( 'bmh' )\n",
    "    plt.rcParams['figure.figsize'] = [25, 12]\n",
    "    plt.rcParams['font.size'] = 24\n",
    "    \n",
    "    display( HTML( '<style>.container { width:100% !important; }</style>') )\n",
    "    pd.options.display.max_columns = None\n",
    "    pd.options.display.max_rows = None\n",
    "    pd.set_option( 'display.expand_frame_repr', False )\n",
    "    \n",
    "    sns.set()\n",
    "    \n",
    "jupyter_settings()\n",
    "\n",
    "\n",
    "# Frequency table\n",
    "def frequency(df, vars):\n",
    "    if len(vars)> 0:\n",
    "        c1 = df[vars[0]]\n",
    "        c2 = []\n",
    "        for i in range(1,len(vars)):\n",
    "            c2.append(df[vars[i]])\n",
    "            dfs = []\n",
    "            dfs.append(pd.crosstab(c1,c2).unstack().reset_index().rename(columns={0: 'contagem'}))\n",
    "            dfs.append(pd.crosstab(c1,c2, normalize='all').unstack().reset_index().rename(columns={0:'percent'}))\n",
    "            dfs = [df.set_index(vars) for df in dfs]\n",
    "            df = dfs[0].join(dfs[1:]).reset_index()\n",
    "            return df \n",
    "        \n",
    "# Outliers\n",
    "def outliers(dataset, var):\n",
    "    \n",
    "    figure, gr = plt.subplots()\n",
    "    \n",
    "    gr.figure.set_size_inches(14,12)\n",
    "    \n",
    "    plt.subplot(2,1,1)\n",
    "    gr = sns.histplot(dataset[var], bins=50)\n",
    "    plt.xlabel(var, fontsize=14)\n",
    "    plt.ylabel('Density', fontsize=14)\n",
    "    \n",
    "    plt.subplot(2,1,2)\n",
    "    gr = sns.boxplot(dataset[var])\n",
    "    plt.xlabel(var, fontsize=14)\n",
    "    plt.show()\n",
    "    \n",
    "    # calculando Q1, Q3 and FIQ\n",
    "    Q1 = dataset[var].quantile(0.25)\n",
    "    Q3 = dataset[var].quantile(0.75)\n",
    "    FIQ = Q3 - Q1\n",
    "    \n",
    "    # calculando o limite dos outliers\n",
    "    min_outlier = Q1 - 1.5 * FIQ\n",
    "    max_outlier = Q3 + 1.5 * FIQ\n",
    "    \n",
    "    print('Limites para outliers: ''\\n')\n",
    "    print(f'Q1 = {Q1}\\nQ3 = {Q3}\\nFIQ = {FIQ}\\nmin_outlier = {min_outlier}\\nmax_outlier = {max_outlier}')\n",
    "\n",
    "# Coeficiente de determinação R²\n",
    "\n",
    "def coef_r2(dataset, var_1, target):\n",
    "    \n",
    "    a = dataset[[var_1, target]]\n",
    "    b = dataset[dataset[target]== 0]\n",
    "    c = dataset[dataset[target]== 1]\n",
    "    d = ((len(c)*c[var_1].var())+(len(b)*b[var_1].var()))/ len(a)\n",
    "    e = a[var_1].var()\n",
    "    \n",
    "    r2 = 1 - (d/e)\n",
    "    \n",
    "    return r2\n",
    "\n",
    "\n",
    "## Função feature selection\n",
    "#\n",
    "#def feature_selection(x_treino, y_treino):\n",
    "#    rf = RandomForestClassifier(random_state=42)\n",
    "#    rf.fit(x_treino, y_treino)\n",
    "#    \n",
    "#    feat_imp = pd.DataFrame({'Váriaveis': x_treino.columns,\n",
    "#                            'Importância da Variável': rf.feature_importances_}).sort_values('Importância da Variável',\n",
    "#                                                                                            ascending=False).reset_index(drop=True)\n",
    "#    plt.subplot(figsize=(12,6))\n",
    "#    sns.barplot(x='Importância da Variável',y='Váriaveis', data=feat_imp,orient='h',color='green')\n",
    "#    plt.show()\n",
    "#\n",
    "## Função performance dados teste\n",
    "#\n",
    "#def performance_treino(x_treino, y_treino, x_teste, y_teste, modelo, nome_modelo):\n",
    "#    #treinando modelo\n",
    "#    modelo.fit(x_treino, y_treino)\n",
    "#    \n",
    "#    # Previsões do modelo \n",
    "#    \n",
    "#    y_hat = modelo.predict(x_teste)\n",
    "#    \n",
    "#    # Métricas de performance\n",
    "#    \n",
    "#    acuracia = accuracy_score(y_teste, y_hat)\n",
    "#    precisao = precision_score(y_teste,y_hat)\n",
    "#    sensibilidade = recall_score(y_teste, y_hat)\n",
    "#    f1 = f1_score(y_teste, y_hat)\n",
    "#    \n",
    "#    # Dataframe das métricas\n",
    "#    \n",
    "#    df_performance = pd.DataFrame({'Acurácia': acuracia,\n",
    "#                                   'Precisão': precisao,\n",
    "#                                   'Sensibilidade': sensibilidade,\n",
    "#                                   'F1_score': f1}, index=[nome_modelo])\n",
    "#    \n",
    "#    # Matriz de confusão\n",
    "#    cm = confusion_matrix (y_teste, y_hat)\n",
    "#    \n",
    "#    # Heatmap matriz de confusão\n",
    "#    \n",
    "#    df_cm = pd.DataFrame(cm)\n",
    "#    \n",
    "#    return df_performance, df_cm\n",
    "#\n",
    "## Função cross validation\n",
    "#\n",
    "#def validacao_cruzada(x, y, classificadores, nomes_classificadores):\n",
    "#    \n",
    "#    resultados = {}\n",
    "#    \n",
    "#    for i in range(len(classificadores)):\n",
    "#        accs_vc = cross_validate(classificadores[i], x, y, cv=StratifiedKFold(n_splits=10),\n",
    "#                                scoring = ['accuracy', 'precision', 'recall','f1'])\n",
    "#        \n",
    "#        acc = accs_vc['accuracy_test'].mean()\n",
    "#        prec = accs_vc['precision_test'].mean()\n",
    "#        sens = accs_vc['recall_test'].mean()\n",
    "#        f1 = accs_vc['f1_test'].mean()\n",
    "#        \n",
    "#        resultados[nomes_classificadores[i]] = [acc,prec,sens,f1]\n",
    "#        resultados = pd.DataFrame(resultados, index=['Acurácia', 'Precisão','Sensibilidade', 'F1-Score'])\n",
    "#        \n",
    "#        return resultados\n",
    "#    \n",
    "## Função ML + cross validation - dados de treino\n",
    "#\n",
    "#def machine_learning(classificadores, nomes_classificadores, x_treino, y_treino):\n",
    "#     \n",
    "#    for clf in classificadores:\n",
    "#        print('Treinando modelos' + type(clf).__name__+ '...')\n",
    "#       # treinando classificador\n",
    "#        clf.fit(x_treino, y_treino)\n",
    "#            \n",
    "#        perfomance = validacao_cruzada(x_treino,y_treino,classificadores,nomes_classificadores)\n",
    "#            \n",
    "#    return perfomance.T \n",
    "#\n",
    "## Matrizes de confusão\n",
    "#\n",
    "#def matrizes_confusao(modelos, x_treino,y_treino,linhas, colunas, a, b):\n",
    "#    \n",
    "#    # plot\n",
    "#    fig, ax = plt.subplot(nrows = linhas, ncols = colunas, figsize=(a,b))\n",
    "#    \n",
    "#    for mod, ax, n in zip (range(len(modelos)), ax.flatten(), list(range(linhas*colunas))):\n",
    "#        \n",
    "#        plt.subplot(linhas, colunas, n+1)\n",
    "#        \n",
    "#        predicoes = cross_val_predict(modelos[mod], x_treino,y_treino, cv=StratifiedKFold(n_splits=10))\n",
    "#        \n",
    "#        cm - confusion_matrix(y_treino, predicoes)\n",
    "#        \n",
    "#        ax = sns.heatmap(cm, annot=True, fmt='g', cmap='viridis',\n",
    "#                         square=True, annot_kws={'size': 14})\n",
    "#        \n",
    "#        plt.xlabel('Predict Value')\n",
    "#        plt.ylabel('Real Value')\n",
    "#        ax.title.set_text(type(modelos[mod]).__name__)\n",
    "#    plt.tight_layout()\n",
    "#    plt.show()\n",
    "#    \n",
    "## Função Hyperparameter finetunnig\n",
    "#\n",
    "#def hipertunagem( modelo,treino,target,tipo = 'grid', n_iter=20 ):\n",
    "#    \n",
    "#    validacao = RepeatedStratifiedKFold(n_splits=10, n_repeats=3)\n",
    "#    \n",
    "#    if tipo =='grid':\n",
    "#        search = GridSearchCV(modelo, param_grid=parametros,\n",
    "#                              scoring= 'f1', cv = validacao,\n",
    "#                              n_iter=n_iter, verbose=1, n_jobs=-1)\n",
    "#    \n",
    "#    elif tipo == 'random':\n",
    "#        search = RandomizedSearchCV(modelo, param_distributions=parametros,\n",
    "#                                    scoring= 'f1', cv = validacao,\n",
    "#                                    n_iter=n_iter, verbose=1, n_jobs=-1)\n",
    "#    else:\n",
    "#        print('Entrada invalida no argumento \"tipo\"')\n",
    "#        \n",
    "#    \n",
    "#    search.fit(treino,target)\n",
    "#    \n",
    "#    estimadores = search.best_estimator_\n",
    "#    \n",
    "#    print('\\nF1-Score: {:.4f}'.format(search.best_score_))\n",
    "#    \n",
    "#    print('Melhores parâmetros: {}\\n'.format(search.best_params))\n",
    "#    \n",
    "#    return estimadores\n",
    "#\n",
    "#\n",
    "## função performance dados de teste - possibilidade variação threshold\n",
    "#\n",
    "#def perfomance_teste1(nome_modelo,modelo, x_teste,y_teste, threshold):\n",
    "#    \n",
    "#    # predict\n",
    "#    \n",
    "#    y_hat = modelo.predict_proba(x_teste)\n",
    "#    \n",
    "#    #dataframe\n",
    "#    \n",
    "#    probs = pd.DataFrame(y_hat[:,1], columns=['probs'])\n",
    "#    \n",
    "#    # appling threshold\n",
    "#    \n",
    "#    y_hat = probs['probs'].apply(lambda x: 1 if x > threshold else 0)\n",
    "#    \n",
    "#    # Métricas de performance\n",
    "#    \n",
    "#    accuracy = accuracy_score(y_teste, y_hat)\n",
    "#    precision  = precision_score(y_teste,y_hat)\n",
    "#    recall = recall_score(y_teste, y_hat)\n",
    "#    f1 = f1_score(y_teste, y_hat)\n",
    "#    roc_auc = roc_auc_score(y_teste,y_hat)\n",
    "#    \n",
    "#    # Dataframe das métricas\n",
    "#    \n",
    "#    performance_df = pd.DataFrame({'Acurácia': acuracia,\n",
    "#                                   'Precisão': precisao,\n",
    "#                                   'Sensibilidade': sensibilidade,\n",
    "#                                   'F1_score': f1,\n",
    "#                                   'ROC AUC Score': roc_auc},index=[nome_modelo])\n",
    "#    \n",
    "#    # Matriz de confusão\n",
    "#    cm = confusion_matrix (y_teste, y_hat)\n",
    "#    \n",
    "#    # Heatmap matriz de confusão\n",
    "#    \n",
    "#    cm_df = sns.heatmap(cm, annot=True,fmt='g', cmap='Greens',\n",
    "#                        square=True, annot_kws={'size': 14})\n",
    "#    \n",
    "#        \n",
    "#    return performance_df, cm_df"
   ]
  },
  {
   "cell_type": "markdown",
   "metadata": {},
   "source": [
    "## 0.2. Loading data"
   ]
  },
  {
   "cell_type": "code",
   "execution_count": 3,
   "metadata": {
    "ExecuteTime": {
     "end_time": "2022-11-25T12:42:22.746464Z",
     "start_time": "2022-11-25T12:42:21.935424Z"
    }
   },
   "outputs": [],
   "source": [
    "df_sales_raw = pd.read_csv( 'train.csv', low_memory=False )\n",
    "df_store_raw = pd.read_csv( 'store.csv', low_memory=False )\n",
    "\n",
    "# merge\n",
    "df_raw = pd.merge( df_sales_raw, df_store_raw, how='left', on='Store' )"
   ]
  },
  {
   "cell_type": "code",
   "execution_count": 4,
   "metadata": {
    "ExecuteTime": {
     "end_time": "2022-11-25T12:42:22.792673Z",
     "start_time": "2022-11-25T12:42:22.746464Z"
    }
   },
   "outputs": [
    {
     "data": {
      "text/html": [
       "<div>\n",
       "<style scoped>\n",
       "    .dataframe tbody tr th:only-of-type {\n",
       "        vertical-align: middle;\n",
       "    }\n",
       "\n",
       "    .dataframe tbody tr th {\n",
       "        vertical-align: top;\n",
       "    }\n",
       "\n",
       "    .dataframe thead th {\n",
       "        text-align: right;\n",
       "    }\n",
       "</style>\n",
       "<table border=\"1\" class=\"dataframe\">\n",
       "  <thead>\n",
       "    <tr style=\"text-align: right;\">\n",
       "      <th></th>\n",
       "      <th>Store</th>\n",
       "      <th>DayOfWeek</th>\n",
       "      <th>Date</th>\n",
       "      <th>Sales</th>\n",
       "      <th>Customers</th>\n",
       "      <th>Open</th>\n",
       "      <th>Promo</th>\n",
       "      <th>StateHoliday</th>\n",
       "      <th>SchoolHoliday</th>\n",
       "      <th>StoreType</th>\n",
       "      <th>Assortment</th>\n",
       "      <th>CompetitionDistance</th>\n",
       "      <th>CompetitionOpenSinceMonth</th>\n",
       "      <th>CompetitionOpenSinceYear</th>\n",
       "      <th>Promo2</th>\n",
       "      <th>Promo2SinceWeek</th>\n",
       "      <th>Promo2SinceYear</th>\n",
       "      <th>PromoInterval</th>\n",
       "    </tr>\n",
       "  </thead>\n",
       "  <tbody>\n",
       "    <tr>\n",
       "      <th>0</th>\n",
       "      <td>1</td>\n",
       "      <td>5</td>\n",
       "      <td>2015-07-31</td>\n",
       "      <td>5263</td>\n",
       "      <td>555</td>\n",
       "      <td>1</td>\n",
       "      <td>1</td>\n",
       "      <td>0</td>\n",
       "      <td>1</td>\n",
       "      <td>c</td>\n",
       "      <td>a</td>\n",
       "      <td>1270.0</td>\n",
       "      <td>9.0</td>\n",
       "      <td>2008.0</td>\n",
       "      <td>0</td>\n",
       "      <td>NaN</td>\n",
       "      <td>NaN</td>\n",
       "      <td>NaN</td>\n",
       "    </tr>\n",
       "    <tr>\n",
       "      <th>1</th>\n",
       "      <td>2</td>\n",
       "      <td>5</td>\n",
       "      <td>2015-07-31</td>\n",
       "      <td>6064</td>\n",
       "      <td>625</td>\n",
       "      <td>1</td>\n",
       "      <td>1</td>\n",
       "      <td>0</td>\n",
       "      <td>1</td>\n",
       "      <td>a</td>\n",
       "      <td>a</td>\n",
       "      <td>570.0</td>\n",
       "      <td>11.0</td>\n",
       "      <td>2007.0</td>\n",
       "      <td>1</td>\n",
       "      <td>13.0</td>\n",
       "      <td>2010.0</td>\n",
       "      <td>Jan,Apr,Jul,Oct</td>\n",
       "    </tr>\n",
       "    <tr>\n",
       "      <th>2</th>\n",
       "      <td>3</td>\n",
       "      <td>5</td>\n",
       "      <td>2015-07-31</td>\n",
       "      <td>8314</td>\n",
       "      <td>821</td>\n",
       "      <td>1</td>\n",
       "      <td>1</td>\n",
       "      <td>0</td>\n",
       "      <td>1</td>\n",
       "      <td>a</td>\n",
       "      <td>a</td>\n",
       "      <td>14130.0</td>\n",
       "      <td>12.0</td>\n",
       "      <td>2006.0</td>\n",
       "      <td>1</td>\n",
       "      <td>14.0</td>\n",
       "      <td>2011.0</td>\n",
       "      <td>Jan,Apr,Jul,Oct</td>\n",
       "    </tr>\n",
       "    <tr>\n",
       "      <th>3</th>\n",
       "      <td>4</td>\n",
       "      <td>5</td>\n",
       "      <td>2015-07-31</td>\n",
       "      <td>13995</td>\n",
       "      <td>1498</td>\n",
       "      <td>1</td>\n",
       "      <td>1</td>\n",
       "      <td>0</td>\n",
       "      <td>1</td>\n",
       "      <td>c</td>\n",
       "      <td>c</td>\n",
       "      <td>620.0</td>\n",
       "      <td>9.0</td>\n",
       "      <td>2009.0</td>\n",
       "      <td>0</td>\n",
       "      <td>NaN</td>\n",
       "      <td>NaN</td>\n",
       "      <td>NaN</td>\n",
       "    </tr>\n",
       "    <tr>\n",
       "      <th>4</th>\n",
       "      <td>5</td>\n",
       "      <td>5</td>\n",
       "      <td>2015-07-31</td>\n",
       "      <td>4822</td>\n",
       "      <td>559</td>\n",
       "      <td>1</td>\n",
       "      <td>1</td>\n",
       "      <td>0</td>\n",
       "      <td>1</td>\n",
       "      <td>a</td>\n",
       "      <td>a</td>\n",
       "      <td>29910.0</td>\n",
       "      <td>4.0</td>\n",
       "      <td>2015.0</td>\n",
       "      <td>0</td>\n",
       "      <td>NaN</td>\n",
       "      <td>NaN</td>\n",
       "      <td>NaN</td>\n",
       "    </tr>\n",
       "  </tbody>\n",
       "</table>\n",
       "</div>"
      ],
      "text/plain": [
       "   Store  DayOfWeek        Date  Sales  Customers  Open  Promo StateHoliday  SchoolHoliday StoreType Assortment  CompetitionDistance  CompetitionOpenSinceMonth  CompetitionOpenSinceYear  Promo2  Promo2SinceWeek  Promo2SinceYear    PromoInterval\n",
       "0      1          5  2015-07-31   5263        555     1      1            0              1         c          a               1270.0                        9.0                    2008.0       0              NaN              NaN              NaN\n",
       "1      2          5  2015-07-31   6064        625     1      1            0              1         a          a                570.0                       11.0                    2007.0       1             13.0           2010.0  Jan,Apr,Jul,Oct\n",
       "2      3          5  2015-07-31   8314        821     1      1            0              1         a          a              14130.0                       12.0                    2006.0       1             14.0           2011.0  Jan,Apr,Jul,Oct\n",
       "3      4          5  2015-07-31  13995       1498     1      1            0              1         c          c                620.0                        9.0                    2009.0       0              NaN              NaN              NaN\n",
       "4      5          5  2015-07-31   4822        559     1      1            0              1         a          a              29910.0                        4.0                    2015.0       0              NaN              NaN              NaN"
      ]
     },
     "execution_count": 4,
     "metadata": {},
     "output_type": "execute_result"
    }
   ],
   "source": [
    "df_raw.head()"
   ]
  },
  {
   "cell_type": "markdown",
   "metadata": {},
   "source": [
    "# 1.0 DESCRICAO DOS DADOS"
   ]
  },
  {
   "cell_type": "code",
   "execution_count": 5,
   "metadata": {
    "ExecuteTime": {
     "end_time": "2022-11-25T12:42:31.300829Z",
     "start_time": "2022-11-25T12:42:31.177390Z"
    }
   },
   "outputs": [],
   "source": [
    "df1 = df_raw.copy()"
   ]
  },
  {
   "cell_type": "markdown",
   "metadata": {
    "ExecuteTime": {
     "end_time": "2019-11-10T11:26:41.736121Z",
     "start_time": "2019-11-10T11:26:41.732986Z"
    }
   },
   "source": [
    "## 1.1. Rename Columns"
   ]
  },
  {
   "cell_type": "code",
   "execution_count": 6,
   "metadata": {
    "ExecuteTime": {
     "end_time": "2022-11-25T12:42:32.332499Z",
     "start_time": "2022-11-25T12:42:32.315532Z"
    }
   },
   "outputs": [],
   "source": [
    "cols_old = ['Store', 'DayOfWeek', 'Date', 'Sales', 'Customers', 'Open', 'Promo', 'StateHoliday', 'SchoolHoliday', \n",
    "            'StoreType', 'Assortment', 'CompetitionDistance', 'CompetitionOpenSinceMonth',\n",
    "            'CompetitionOpenSinceYear', 'Promo2', 'Promo2SinceWeek', 'Promo2SinceYear', 'PromoInterval']\n",
    "\n",
    "snakecase = lambda x: inflection.underscore( x )\n",
    "\n",
    "cols_new = list( map( snakecase, cols_old ) )\n",
    "\n",
    "# rename\n",
    "df1.columns = cols_new"
   ]
  },
  {
   "cell_type": "markdown",
   "metadata": {
    "ExecuteTime": {
     "end_time": "2019-11-10T11:26:41.736121Z",
     "start_time": "2019-11-10T11:26:41.732986Z"
    }
   },
   "source": [
    "## 1.2. Data Dimensions"
   ]
  },
  {
   "cell_type": "code",
   "execution_count": 7,
   "metadata": {
    "ExecuteTime": {
     "end_time": "2022-11-25T12:42:35.413434Z",
     "start_time": "2022-11-25T12:42:35.394434Z"
    }
   },
   "outputs": [
    {
     "name": "stdout",
     "output_type": "stream",
     "text": [
      "Number of Rows: 1017209\n",
      "Number of Cols: 18\n"
     ]
    }
   ],
   "source": [
    "print( 'Number of Rows: {}'.format( df1.shape[0] ) )\n",
    "print( 'Number of Cols: {}'.format( df1.shape[1] ) )"
   ]
  },
  {
   "cell_type": "markdown",
   "metadata": {
    "ExecuteTime": {
     "end_time": "2019-11-10T11:26:41.736121Z",
     "start_time": "2019-11-10T11:26:41.732986Z"
    }
   },
   "source": [
    "## 1.3. Data Types"
   ]
  },
  {
   "cell_type": "code",
   "execution_count": 8,
   "metadata": {
    "ExecuteTime": {
     "end_time": "2022-11-25T12:42:36.521431Z",
     "start_time": "2022-11-25T12:42:36.396303Z"
    }
   },
   "outputs": [
    {
     "data": {
      "text/plain": [
       "store                                    int64\n",
       "day_of_week                              int64\n",
       "date                            datetime64[ns]\n",
       "sales                                    int64\n",
       "customers                                int64\n",
       "open                                     int64\n",
       "promo                                    int64\n",
       "state_holiday                           object\n",
       "school_holiday                           int64\n",
       "store_type                              object\n",
       "assortment                              object\n",
       "competition_distance                   float64\n",
       "competition_open_since_month           float64\n",
       "competition_open_since_year            float64\n",
       "promo2                                   int64\n",
       "promo2_since_week                      float64\n",
       "promo2_since_year                      float64\n",
       "promo_interval                          object\n",
       "dtype: object"
      ]
     },
     "execution_count": 8,
     "metadata": {},
     "output_type": "execute_result"
    }
   ],
   "source": [
    "df1['date'] = pd.to_datetime( df1['date'] )\n",
    "df1.dtypes"
   ]
  },
  {
   "cell_type": "markdown",
   "metadata": {
    "ExecuteTime": {
     "end_time": "2019-11-10T11:26:41.736121Z",
     "start_time": "2019-11-10T11:26:41.732986Z"
    }
   },
   "source": [
    "## 1.4. Check NA"
   ]
  },
  {
   "cell_type": "code",
   "execution_count": 9,
   "metadata": {
    "ExecuteTime": {
     "end_time": "2022-11-25T12:42:40.052313Z",
     "start_time": "2022-11-25T12:42:39.643741Z"
    }
   },
   "outputs": [
    {
     "data": {
      "text/plain": [
       "store                                0\n",
       "day_of_week                          0\n",
       "date                                 0\n",
       "sales                                0\n",
       "customers                            0\n",
       "open                                 0\n",
       "promo                                0\n",
       "state_holiday                        0\n",
       "school_holiday                       0\n",
       "store_type                           0\n",
       "assortment                           0\n",
       "competition_distance              2642\n",
       "competition_open_since_month    323348\n",
       "competition_open_since_year     323348\n",
       "promo2                               0\n",
       "promo2_since_week               508031\n",
       "promo2_since_year               508031\n",
       "promo_interval                  508031\n",
       "dtype: int64"
      ]
     },
     "execution_count": 9,
     "metadata": {},
     "output_type": "execute_result"
    }
   ],
   "source": [
    "df1.isna().sum()"
   ]
  },
  {
   "cell_type": "markdown",
   "metadata": {
    "ExecuteTime": {
     "end_time": "2019-11-10T11:26:41.736121Z",
     "start_time": "2019-11-10T11:26:41.732986Z"
    }
   },
   "source": [
    "## 1.5. Fillout NA"
   ]
  },
  {
   "cell_type": "code",
   "execution_count": 10,
   "metadata": {
    "ExecuteTime": {
     "end_time": "2022-11-25T12:43:47.050190Z",
     "start_time": "2022-11-25T12:42:41.277427Z"
    }
   },
   "outputs": [],
   "source": [
    "#competition_distance\n",
    "df1['competition_distance'] = df1['competition_distance'].apply(lambda x: 200000.0 if math.isnan(x) else (x))\n",
    "\n",
    "#competition_open_since_month\n",
    "df1['competition_open_since_month'] = df1.apply(lambda x: x['date'].month if math.isnan(x['competition_open_since_month']) else x['competition_open_since_month'], axis=1)\n",
    "\n",
    "#competition_open_since_year\n",
    "df1['competition_open_since_year'] = df1.apply(lambda x: x['date'].year if math.isnan(x['competition_open_since_year']) else x['competition_open_since_year'], axis=1)\n",
    "\n",
    "#promo2_since_week\n",
    "df1['promo2_since_week'] = df1.apply(lambda x: x['date'].week if math.isnan(x['promo2_since_week']) else x['promo2_since_week'], axis=1)\n",
    "\n",
    "#promo2_since_year\n",
    "df1['promo2_since_year'] = df1.apply(lambda x: x['date'].year if math.isnan(x['promo2_since_year']) else x['promo2_since_year'], axis=1)\n",
    "\n",
    "#promo_interval \n",
    "month_map = {1: 'Jan',2: 'Feb',3: 'Mar',4: 'Apr',5: 'May',6: 'Jun',7: 'Jul',8: 'Aug',9: 'Sep',10: 'Oct',11: 'Nov',12: 'Dec'}\n",
    "\n",
    "df1['promo_interval'].fillna(0, inplace=True)\n",
    "\n",
    "df1['month_map'] = df1['date'].dt.month.map(month_map) \n",
    "\n",
    "df1['is_promo'] = df1[['promo_interval','month_map']].apply(lambda x: 0 if x['promo_interval'] == 0 else 1 if x['month_map'] in x['promo_interval'].split(',') else 0, axis=1)\n",
    "\n"
   ]
  },
  {
   "cell_type": "code",
   "execution_count": 11,
   "metadata": {
    "ExecuteTime": {
     "end_time": "2022-11-25T12:43:47.561499Z",
     "start_time": "2022-11-25T12:43:47.050190Z"
    }
   },
   "outputs": [
    {
     "data": {
      "text/plain": [
       "store                           0\n",
       "day_of_week                     0\n",
       "date                            0\n",
       "sales                           0\n",
       "customers                       0\n",
       "open                            0\n",
       "promo                           0\n",
       "state_holiday                   0\n",
       "school_holiday                  0\n",
       "store_type                      0\n",
       "assortment                      0\n",
       "competition_distance            0\n",
       "competition_open_since_month    0\n",
       "competition_open_since_year     0\n",
       "promo2                          0\n",
       "promo2_since_week               0\n",
       "promo2_since_year               0\n",
       "promo_interval                  0\n",
       "month_map                       0\n",
       "is_promo                        0\n",
       "dtype: int64"
      ]
     },
     "execution_count": 11,
     "metadata": {},
     "output_type": "execute_result"
    }
   ],
   "source": [
    "df1.isna().sum()"
   ]
  },
  {
   "cell_type": "markdown",
   "metadata": {
    "ExecuteTime": {
     "end_time": "2019-11-10T11:26:41.736121Z",
     "start_time": "2019-11-10T11:26:41.732986Z"
    }
   },
   "source": [
    "## 1.6. Change Data Types"
   ]
  },
  {
   "cell_type": "code",
   "execution_count": 12,
   "metadata": {
    "ExecuteTime": {
     "end_time": "2022-11-25T12:43:47.625377Z",
     "start_time": "2022-11-25T12:43:47.563510Z"
    }
   },
   "outputs": [],
   "source": [
    "# competiton\n",
    "df1['competition_open_since_month'] = df1['competition_open_since_month'].astype( int )\n",
    "df1['competition_open_since_year'] = df1['competition_open_since_year'].astype( int )\n",
    "    \n",
    "# promo2\n",
    "df1['promo2_since_week'] = df1['promo2_since_week'].astype( int )\n",
    "df1['promo2_since_year'] = df1['promo2_since_year'].astype( int )"
   ]
  },
  {
   "cell_type": "markdown",
   "metadata": {
    "ExecuteTime": {
     "end_time": "2019-11-10T11:26:41.736121Z",
     "start_time": "2019-11-10T11:26:41.732986Z"
    }
   },
   "source": [
    "## 1.7. Descriptive Statistics"
   ]
  },
  {
   "cell_type": "code",
   "execution_count": 13,
   "metadata": {
    "ExecuteTime": {
     "end_time": "2022-11-25T12:43:47.640810Z",
     "start_time": "2022-11-25T12:43:47.626994Z"
    }
   },
   "outputs": [],
   "source": [
    "num_attributes = df1.select_dtypes( include=['int64', 'float64'] )\n",
    "cat_attributes = df1.select_dtypes( exclude=['int64', 'float64', 'datetime64[ns]'] )"
   ]
  },
  {
   "cell_type": "markdown",
   "metadata": {
    "ExecuteTime": {
     "end_time": "2019-11-10T11:26:41.736121Z",
     "start_time": "2019-11-10T11:26:41.732986Z"
    }
   },
   "source": [
    "### 1.7.1. Numerical Atributes"
   ]
  },
  {
   "cell_type": "code",
   "execution_count": 14,
   "metadata": {
    "ExecuteTime": {
     "end_time": "2022-11-25T12:43:49.636961Z",
     "start_time": "2022-11-25T12:43:47.641764Z"
    }
   },
   "outputs": [
    {
     "data": {
      "text/html": [
       "<div>\n",
       "<style scoped>\n",
       "    .dataframe tbody tr th:only-of-type {\n",
       "        vertical-align: middle;\n",
       "    }\n",
       "\n",
       "    .dataframe tbody tr th {\n",
       "        vertical-align: top;\n",
       "    }\n",
       "\n",
       "    .dataframe thead th {\n",
       "        text-align: right;\n",
       "    }\n",
       "</style>\n",
       "<table border=\"1\" class=\"dataframe\">\n",
       "  <thead>\n",
       "    <tr style=\"text-align: right;\">\n",
       "      <th></th>\n",
       "      <th>attributes</th>\n",
       "      <th>min</th>\n",
       "      <th>max</th>\n",
       "      <th>range</th>\n",
       "      <th>mean</th>\n",
       "      <th>median</th>\n",
       "      <th>std</th>\n",
       "      <th>skew</th>\n",
       "      <th>kurtosis</th>\n",
       "    </tr>\n",
       "  </thead>\n",
       "  <tbody>\n",
       "    <tr>\n",
       "      <th>0</th>\n",
       "      <td>store</td>\n",
       "      <td>1.0</td>\n",
       "      <td>1115.0</td>\n",
       "      <td>1114.0</td>\n",
       "      <td>558.429727</td>\n",
       "      <td>558.0</td>\n",
       "      <td>321.908493</td>\n",
       "      <td>-0.000955</td>\n",
       "      <td>-1.200524</td>\n",
       "    </tr>\n",
       "    <tr>\n",
       "      <th>1</th>\n",
       "      <td>day_of_week</td>\n",
       "      <td>1.0</td>\n",
       "      <td>7.0</td>\n",
       "      <td>6.0</td>\n",
       "      <td>3.998341</td>\n",
       "      <td>4.0</td>\n",
       "      <td>1.997390</td>\n",
       "      <td>0.001593</td>\n",
       "      <td>-1.246873</td>\n",
       "    </tr>\n",
       "    <tr>\n",
       "      <th>2</th>\n",
       "      <td>sales</td>\n",
       "      <td>0.0</td>\n",
       "      <td>41551.0</td>\n",
       "      <td>41551.0</td>\n",
       "      <td>5773.818972</td>\n",
       "      <td>5744.0</td>\n",
       "      <td>3849.924283</td>\n",
       "      <td>0.641460</td>\n",
       "      <td>1.778375</td>\n",
       "    </tr>\n",
       "    <tr>\n",
       "      <th>3</th>\n",
       "      <td>customers</td>\n",
       "      <td>0.0</td>\n",
       "      <td>7388.0</td>\n",
       "      <td>7388.0</td>\n",
       "      <td>633.145946</td>\n",
       "      <td>609.0</td>\n",
       "      <td>464.411506</td>\n",
       "      <td>1.598650</td>\n",
       "      <td>7.091773</td>\n",
       "    </tr>\n",
       "    <tr>\n",
       "      <th>4</th>\n",
       "      <td>open</td>\n",
       "      <td>0.0</td>\n",
       "      <td>1.0</td>\n",
       "      <td>1.0</td>\n",
       "      <td>0.830107</td>\n",
       "      <td>1.0</td>\n",
       "      <td>0.375539</td>\n",
       "      <td>-1.758045</td>\n",
       "      <td>1.090723</td>\n",
       "    </tr>\n",
       "    <tr>\n",
       "      <th>5</th>\n",
       "      <td>promo</td>\n",
       "      <td>0.0</td>\n",
       "      <td>1.0</td>\n",
       "      <td>1.0</td>\n",
       "      <td>0.381515</td>\n",
       "      <td>0.0</td>\n",
       "      <td>0.485758</td>\n",
       "      <td>0.487838</td>\n",
       "      <td>-1.762018</td>\n",
       "    </tr>\n",
       "    <tr>\n",
       "      <th>6</th>\n",
       "      <td>school_holiday</td>\n",
       "      <td>0.0</td>\n",
       "      <td>1.0</td>\n",
       "      <td>1.0</td>\n",
       "      <td>0.178647</td>\n",
       "      <td>0.0</td>\n",
       "      <td>0.383056</td>\n",
       "      <td>1.677842</td>\n",
       "      <td>0.815154</td>\n",
       "    </tr>\n",
       "    <tr>\n",
       "      <th>7</th>\n",
       "      <td>competition_distance</td>\n",
       "      <td>20.0</td>\n",
       "      <td>200000.0</td>\n",
       "      <td>199980.0</td>\n",
       "      <td>5935.442677</td>\n",
       "      <td>2330.0</td>\n",
       "      <td>12547.646829</td>\n",
       "      <td>10.242344</td>\n",
       "      <td>147.789712</td>\n",
       "    </tr>\n",
       "    <tr>\n",
       "      <th>8</th>\n",
       "      <td>promo2</td>\n",
       "      <td>0.0</td>\n",
       "      <td>1.0</td>\n",
       "      <td>1.0</td>\n",
       "      <td>0.500564</td>\n",
       "      <td>1.0</td>\n",
       "      <td>0.500000</td>\n",
       "      <td>-0.002255</td>\n",
       "      <td>-1.999999</td>\n",
       "    </tr>\n",
       "    <tr>\n",
       "      <th>9</th>\n",
       "      <td>is_promo</td>\n",
       "      <td>0.0</td>\n",
       "      <td>1.0</td>\n",
       "      <td>1.0</td>\n",
       "      <td>0.165966</td>\n",
       "      <td>0.0</td>\n",
       "      <td>0.372050</td>\n",
       "      <td>1.795644</td>\n",
       "      <td>1.224338</td>\n",
       "    </tr>\n",
       "  </tbody>\n",
       "</table>\n",
       "</div>"
      ],
      "text/plain": [
       "             attributes   min       max     range         mean  median           std       skew    kurtosis\n",
       "0                 store   1.0    1115.0    1114.0   558.429727   558.0    321.908493  -0.000955   -1.200524\n",
       "1           day_of_week   1.0       7.0       6.0     3.998341     4.0      1.997390   0.001593   -1.246873\n",
       "2                 sales   0.0   41551.0   41551.0  5773.818972  5744.0   3849.924283   0.641460    1.778375\n",
       "3             customers   0.0    7388.0    7388.0   633.145946   609.0    464.411506   1.598650    7.091773\n",
       "4                  open   0.0       1.0       1.0     0.830107     1.0      0.375539  -1.758045    1.090723\n",
       "5                 promo   0.0       1.0       1.0     0.381515     0.0      0.485758   0.487838   -1.762018\n",
       "6        school_holiday   0.0       1.0       1.0     0.178647     0.0      0.383056   1.677842    0.815154\n",
       "7  competition_distance  20.0  200000.0  199980.0  5935.442677  2330.0  12547.646829  10.242344  147.789712\n",
       "8                promo2   0.0       1.0       1.0     0.500564     1.0      0.500000  -0.002255   -1.999999\n",
       "9              is_promo   0.0       1.0       1.0     0.165966     0.0      0.372050   1.795644    1.224338"
      ]
     },
     "execution_count": 14,
     "metadata": {},
     "output_type": "execute_result"
    }
   ],
   "source": [
    "# Central Tendency - mean, mediana \n",
    "ct1 = pd.DataFrame( num_attributes.apply( np.mean ) ).T\n",
    "ct2 = pd.DataFrame( num_attributes.apply( np.median ) ).T\n",
    "\n",
    "# dispersion - std, min, max, range, skew, kurtosis\n",
    "d1 = pd.DataFrame( num_attributes.apply( np.std ) ).T \n",
    "d2 = pd.DataFrame( num_attributes.apply( min ) ).T \n",
    "d3 = pd.DataFrame( num_attributes.apply( max ) ).T \n",
    "d4 = pd.DataFrame( num_attributes.apply( lambda x: x.max() - x.min() ) ).T \n",
    "d5 = pd.DataFrame( num_attributes.apply( lambda x: x.skew() ) ).T \n",
    "d6 = pd.DataFrame( num_attributes.apply( lambda x: x.kurtosis() ) ).T \n",
    "\n",
    "# concatenar\n",
    "m = pd.concat( [d2, d3, d4, ct1, ct2, d1, d5, d6] ).T.reset_index()\n",
    "m.columns = ['attributes', 'min', 'max', 'range', 'mean', 'median', 'std', 'skew', 'kurtosis']\n",
    "m"
   ]
  },
  {
   "cell_type": "code",
   "execution_count": 15,
   "metadata": {
    "ExecuteTime": {
     "end_time": "2022-11-25T12:43:58.114480Z",
     "start_time": "2022-11-25T12:43:49.638929Z"
    }
   },
   "outputs": [
    {
     "data": {
      "application/vnd.jupyter.widget-view+json": {
       "model_id": "fe75a2ae686f4f9493237978548c766f",
       "version_major": 2,
       "version_minor": 0
      },
      "image/png": "[encoded data removed]",
      "text/html": [
       "\n",
       "            <div style=\"display: inline-block;\">\n",
       "                <div class=\"jupyter-widgets widget-label\" style=\"text-align: center;\">\n",
       "                    Figure\n",
       "                </div>\n",
       "                <img src='data:image/png;base64,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' width=432.0/>\n",
       "            </div>\n",
       "        "
      ],
      "text/plain": [
       "Canvas(toolbar=Toolbar(toolitems=[('Home', 'Reset original view', 'home', 'home'), ('Back', 'Back to previous …"
      ]
     },
     "metadata": {},
     "output_type": "display_data"
    }
   ],
   "source": [
    "# Histograma da feature competition distance\n",
    "%matplotlib widget\n",
    "sns.histplot(data=df1, x='competition_distance', kde=True );"
   ]
  },
  {
   "cell_type": "markdown",
   "metadata": {
    "ExecuteTime": {
     "end_time": "2019-11-10T11:26:41.736121Z",
     "start_time": "2019-11-10T11:26:41.732986Z"
    }
   },
   "source": [
    "### 1.7.2. Categorical Atributes"
   ]
  },
  {
   "cell_type": "code",
   "execution_count": null,
   "metadata": {},
   "outputs": [],
   "source": []
  },
  {
   "cell_type": "code",
   "execution_count": 16,
   "metadata": {
    "ExecuteTime": {
     "end_time": "2022-11-25T12:43:58.305810Z",
     "start_time": "2022-11-25T12:43:58.114480Z"
    }
   },
   "outputs": [
    {
     "data": {
      "text/plain": [
       "state_holiday                    4\n",
       "store_type                       4\n",
       "assortment                       3\n",
       "competition_open_since_month    12\n",
       "competition_open_since_year     23\n",
       "promo2_since_week               52\n",
       "promo2_since_year                7\n",
       "promo_interval                   4\n",
       "month_map                       12\n",
       "dtype: int64"
      ]
     },
     "execution_count": 16,
     "metadata": {},
     "output_type": "execute_result"
    }
   ],
   "source": [
    "#Qtda de valores únicos de cada feature categórica\n",
    "cat_attributes.apply( lambda x: x.unique().shape[0] )"
   ]
  },
  {
   "cell_type": "code",
   "execution_count": 17,
   "metadata": {
    "ExecuteTime": {
     "end_time": "2022-11-25T12:43:58.636327Z",
     "start_time": "2022-11-25T12:43:58.307767Z"
    }
   },
   "outputs": [
    {
     "data": {
      "application/vnd.jupyter.widget-view+json": {
       "model_id": "d1baf92da33f49adbaab28f141bda4f9",
       "version_major": 2,
       "version_minor": 0
      },
      "image/png": "[encoded data removed]",
      "text/html": [
       "\n",
       "            <div style=\"display: inline-block;\">\n",
       "                <div class=\"jupyter-widgets widget-label\" style=\"text-align: center;\">\n",
       "                    Figure\n",
       "                </div>\n",
       "                <img src='data:image/png;base64,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' width=432.0/>\n",
       "            </div>\n",
       "        "
      ],
      "text/plain": [
       "Canvas(toolbar=Toolbar(toolitems=[('Home', 'Reset original view', 'home', 'home'), ('Back', 'Back to previous …"
      ]
     },
     "metadata": {},
     "output_type": "display_data"
    }
   ],
   "source": [
    "# Boxplot de features categóricas em relação as vendas\n",
    "%matplotlib widget\n",
    "aux = df1[(df1['state_holiday'] != '0') & (df1['sales'] > 0)]\n",
    "\n",
    "plt.subplot( 1, 3, 1 )\n",
    "sns.boxplot( x='state_holiday', y='sales', data=aux )\n",
    "\n",
    "plt.subplot( 1, 3, 2 )\n",
    "sns.boxplot( x='store_type', y='sales', data=aux )\n",
    "\n",
    "plt.subplot( 1, 3, 3 )\n",
    "sns.boxplot( x='assortment', y='sales', data=aux );"
   ]
  },
  {
   "cell_type": "code",
   "execution_count": 18,
   "metadata": {
    "ExecuteTime": {
     "end_time": "2022-11-25T12:43:58.668378Z",
     "start_time": "2022-11-25T12:43:58.651326Z"
    }
   },
   "outputs": [
    {
     "data": {
      "text/html": [
       "<div>\n",
       "<style scoped>\n",
       "    .dataframe tbody tr th:only-of-type {\n",
       "        vertical-align: middle;\n",
       "    }\n",
       "\n",
       "    .dataframe tbody tr th {\n",
       "        vertical-align: top;\n",
       "    }\n",
       "\n",
       "    .dataframe thead th {\n",
       "        text-align: right;\n",
       "    }\n",
       "</style>\n",
       "<table border=\"1\" class=\"dataframe\">\n",
       "  <thead>\n",
       "    <tr style=\"text-align: right;\">\n",
       "      <th></th>\n",
       "      <th>63559</th>\n",
       "      <th>63560</th>\n",
       "      <th>63609</th>\n",
       "      <th>63611</th>\n",
       "      <th>63614</th>\n",
       "    </tr>\n",
       "  </thead>\n",
       "  <tbody>\n",
       "    <tr>\n",
       "      <th>store</th>\n",
       "      <td>5</td>\n",
       "      <td>6</td>\n",
       "      <td>55</td>\n",
       "      <td>57</td>\n",
       "      <td>60</td>\n",
       "    </tr>\n",
       "    <tr>\n",
       "      <th>day_of_week</th>\n",
       "      <td>4</td>\n",
       "      <td>4</td>\n",
       "      <td>4</td>\n",
       "      <td>4</td>\n",
       "      <td>4</td>\n",
       "    </tr>\n",
       "    <tr>\n",
       "      <th>date</th>\n",
       "      <td>2015-06-04 00:00:00</td>\n",
       "      <td>2015-06-04 00:00:00</td>\n",
       "      <td>2015-06-04 00:00:00</td>\n",
       "      <td>2015-06-04 00:00:00</td>\n",
       "      <td>2015-06-04 00:00:00</td>\n",
       "    </tr>\n",
       "    <tr>\n",
       "      <th>sales</th>\n",
       "      <td>5807</td>\n",
       "      <td>5749</td>\n",
       "      <td>5984</td>\n",
       "      <td>9301</td>\n",
       "      <td>10399</td>\n",
       "    </tr>\n",
       "    <tr>\n",
       "      <th>customers</th>\n",
       "      <td>625</td>\n",
       "      <td>614</td>\n",
       "      <td>702</td>\n",
       "      <td>870</td>\n",
       "      <td>850</td>\n",
       "    </tr>\n",
       "    <tr>\n",
       "      <th>open</th>\n",
       "      <td>1</td>\n",
       "      <td>1</td>\n",
       "      <td>1</td>\n",
       "      <td>1</td>\n",
       "      <td>1</td>\n",
       "    </tr>\n",
       "    <tr>\n",
       "      <th>promo</th>\n",
       "      <td>1</td>\n",
       "      <td>1</td>\n",
       "      <td>1</td>\n",
       "      <td>1</td>\n",
       "      <td>1</td>\n",
       "    </tr>\n",
       "    <tr>\n",
       "      <th>state_holiday</th>\n",
       "      <td>a</td>\n",
       "      <td>a</td>\n",
       "      <td>a</td>\n",
       "      <td>a</td>\n",
       "      <td>a</td>\n",
       "    </tr>\n",
       "    <tr>\n",
       "      <th>school_holiday</th>\n",
       "      <td>0</td>\n",
       "      <td>0</td>\n",
       "      <td>0</td>\n",
       "      <td>0</td>\n",
       "      <td>0</td>\n",
       "    </tr>\n",
       "    <tr>\n",
       "      <th>store_type</th>\n",
       "      <td>a</td>\n",
       "      <td>a</td>\n",
       "      <td>a</td>\n",
       "      <td>d</td>\n",
       "      <td>d</td>\n",
       "    </tr>\n",
       "    <tr>\n",
       "      <th>assortment</th>\n",
       "      <td>a</td>\n",
       "      <td>a</td>\n",
       "      <td>a</td>\n",
       "      <td>c</td>\n",
       "      <td>c</td>\n",
       "    </tr>\n",
       "    <tr>\n",
       "      <th>competition_distance</th>\n",
       "      <td>29910.0</td>\n",
       "      <td>310.0</td>\n",
       "      <td>720.0</td>\n",
       "      <td>420.0</td>\n",
       "      <td>5540.0</td>\n",
       "    </tr>\n",
       "    <tr>\n",
       "      <th>competition_open_since_month</th>\n",
       "      <td>4</td>\n",
       "      <td>12</td>\n",
       "      <td>11</td>\n",
       "      <td>6</td>\n",
       "      <td>10</td>\n",
       "    </tr>\n",
       "    <tr>\n",
       "      <th>competition_open_since_year</th>\n",
       "      <td>2015</td>\n",
       "      <td>2013</td>\n",
       "      <td>2004</td>\n",
       "      <td>2014</td>\n",
       "      <td>2009</td>\n",
       "    </tr>\n",
       "    <tr>\n",
       "      <th>promo2</th>\n",
       "      <td>0</td>\n",
       "      <td>0</td>\n",
       "      <td>0</td>\n",
       "      <td>0</td>\n",
       "      <td>0</td>\n",
       "    </tr>\n",
       "    <tr>\n",
       "      <th>promo2_since_week</th>\n",
       "      <td>23</td>\n",
       "      <td>23</td>\n",
       "      <td>23</td>\n",
       "      <td>23</td>\n",
       "      <td>23</td>\n",
       "    </tr>\n",
       "    <tr>\n",
       "      <th>promo2_since_year</th>\n",
       "      <td>2015</td>\n",
       "      <td>2015</td>\n",
       "      <td>2015</td>\n",
       "      <td>2015</td>\n",
       "      <td>2015</td>\n",
       "    </tr>\n",
       "    <tr>\n",
       "      <th>promo_interval</th>\n",
       "      <td>0</td>\n",
       "      <td>0</td>\n",
       "      <td>0</td>\n",
       "      <td>0</td>\n",
       "      <td>0</td>\n",
       "    </tr>\n",
       "    <tr>\n",
       "      <th>month_map</th>\n",
       "      <td>Jun</td>\n",
       "      <td>Jun</td>\n",
       "      <td>Jun</td>\n",
       "      <td>Jun</td>\n",
       "      <td>Jun</td>\n",
       "    </tr>\n",
       "    <tr>\n",
       "      <th>is_promo</th>\n",
       "      <td>0</td>\n",
       "      <td>0</td>\n",
       "      <td>0</td>\n",
       "      <td>0</td>\n",
       "      <td>0</td>\n",
       "    </tr>\n",
       "  </tbody>\n",
       "</table>\n",
       "</div>"
      ],
      "text/plain": [
       "                                            63559                63560                63609                63611                63614\n",
       "store                                           5                    6                   55                   57                   60\n",
       "day_of_week                                     4                    4                    4                    4                    4\n",
       "date                          2015-06-04 00:00:00  2015-06-04 00:00:00  2015-06-04 00:00:00  2015-06-04 00:00:00  2015-06-04 00:00:00\n",
       "sales                                        5807                 5749                 5984                 9301                10399\n",
       "customers                                     625                  614                  702                  870                  850\n",
       "open                                            1                    1                    1                    1                    1\n",
       "promo                                           1                    1                    1                    1                    1\n",
       "state_holiday                                   a                    a                    a                    a                    a\n",
       "school_holiday                                  0                    0                    0                    0                    0\n",
       "store_type                                      a                    a                    a                    d                    d\n",
       "assortment                                      a                    a                    a                    c                    c\n",
       "competition_distance                      29910.0                310.0                720.0                420.0               5540.0\n",
       "competition_open_since_month                    4                   12                   11                    6                   10\n",
       "competition_open_since_year                  2015                 2013                 2004                 2014                 2009\n",
       "promo2                                          0                    0                    0                    0                    0\n",
       "promo2_since_week                              23                   23                   23                   23                   23\n",
       "promo2_since_year                            2015                 2015                 2015                 2015                 2015\n",
       "promo_interval                                  0                    0                    0                    0                    0\n",
       "month_map                                     Jun                  Jun                  Jun                  Jun                  Jun\n",
       "is_promo                                        0                    0                    0                    0                    0"
      ]
     },
     "execution_count": 18,
     "metadata": {},
     "output_type": "execute_result"
    }
   ],
   "source": [
    "aux.head().T"
   ]
  },
  {
   "cell_type": "markdown",
   "metadata": {
    "ExecuteTime": {
     "end_time": "2022-11-17T22:30:40.173280Z",
     "start_time": "2022-11-17T22:30:40.167279Z"
    }
   },
   "source": [
    "# 2.0 FEATURE ENGINEERING"
   ]
  },
  {
   "cell_type": "markdown",
   "metadata": {},
   "source": [
    "## 2.1. Mind Map Hypothesis"
   ]
  },
  {
   "cell_type": "code",
   "execution_count": 32,
   "metadata": {
    "ExecuteTime": {
     "end_time": "2022-11-25T14:35:51.555421Z",
     "start_time": "2022-11-25T14:35:51.500001Z"
    }
   },
   "outputs": [],
   "source": [
    "df2 = df1.copy()"
   ]
  },
  {
   "cell_type": "code",
   "execution_count": 20,
   "metadata": {
    "ExecuteTime": {
     "end_time": "2022-11-25T12:43:58.762019Z",
     "start_time": "2022-11-25T12:43:58.720988Z"
    }
   },
   "outputs": [
    {
     "data": {
      "image/png": "[encoded data removed]",
      "text/plain": [
       "<IPython.core.display.Image object>"
      ]
     },
     "execution_count": 20,
     "metadata": {},
     "output_type": "execute_result"
    }
   ],
   "source": [
    "Image('DAILY_STORE_SALES_Mind_map_hip.png')"
   ]
  },
  {
   "cell_type": "markdown",
   "metadata": {},
   "source": [
    "##  2.2. Criação das Hipóteses"
   ]
  },
  {
   "cell_type": "markdown",
   "metadata": {},
   "source": [
    "### 2.2.1. Hipoteses de Loja"
   ]
  },
  {
   "cell_type": "markdown",
   "metadata": {
    "ExecuteTime": {
     "end_time": "2022-11-18T12:45:22.507096Z",
     "start_time": "2022-11-18T12:45:22.500096Z"
    }
   },
   "source": [
    "**H1.** Lojas com maior quadro de funcionarios deveriam vender mais.\n",
    "\n",
    "**H2.** Lojas com maior estoque deveriam vender mais.\n",
    "\n",
    "**H3.** Lojas com maior porte deveriam vender mais.\n",
    "\n",
    "**H4.** Lojas com competidores a mais tempo deveriam vender mais.\n",
    "\n",
    "**H5.** Lojas com maior sortimento deveriam vender mais.\n",
    "\n",
    "**H6.** Lojas com competidores mais próximos deveriam vender mais."
   ]
  },
  {
   "cell_type": "markdown",
   "metadata": {
    "heading_collapsed": true
   },
   "source": [
    "### 2.2.2. Hipoteses de Produto"
   ]
  },
  {
   "cell_type": "markdown",
   "metadata": {
    "ExecuteTime": {
     "end_time": "2022-11-18T12:59:45.103567Z",
     "start_time": "2022-11-18T12:59:45.095536Z"
    },
    "hidden": true
   },
   "source": [
    "**H1.** Lojas que investem mais em marketing deveriam vender mais.\n",
    "\n",
    "**H2.** Lojas que expoem mais os produtos nas vitrines deveriam vender mais.\n",
    "\n",
    "**H3.** Lojas que tem preços menores deveriam vender mais.\n",
    "\n",
    "**H4.** Lojas que tem preços menores por mais tempo deveriam vender mais.\n",
    "\n",
    "**H5.** Lojas com promoções mais agressivas (maiores descontos), deveriam vender mais.\n",
    "\n",
    "**H6.** Lojas com promoções ativas por mais tempo deveriam vender mais.\n",
    "\n",
    "**H7.** Lojas com mais dias de promoção devriam vender mais.\n",
    "\n",
    "**H8.** Loja com mais promoções consecutivas deveriam vender mais."
   ]
  },
  {
   "cell_type": "markdown",
   "metadata": {
    "heading_collapsed": true
   },
   "source": [
    "### 2.2.3. Hipoteses de Tempo"
   ]
  },
  {
   "cell_type": "markdown",
   "metadata": {
    "hidden": true
   },
   "source": [
    "**H1.** Lojas abertas durante o feriado de Natal deveriam vender mais.\n",
    "\n",
    "**H2.** Lojas deveriam vender mais ao longo dos anos.\n",
    "\n",
    "**H3.** Lojas deveriam vender mais no segundo semestre do ano.\n",
    "\n",
    "**H4.** Lojas deveriam vender mais depois do dia 10 de cada mês.\n",
    "\n",
    "**H5.** Lojas deveriam vender menos aos finais de semana.\n",
    "\n",
    "**H6.** Lojas deveriam vender menos durante feriados escolares."
   ]
  },
  {
   "cell_type": "markdown",
   "metadata": {},
   "source": [
    "## 2.3. Lista final de Hipóteses"
   ]
  },
  {
   "cell_type": "markdown",
   "metadata": {
    "ExecuteTime": {
     "end_time": "2022-11-18T14:31:30.206171Z",
     "start_time": "2022-11-18T14:31:30.193175Z"
    }
   },
   "source": [
    "**H1.** Lojas com maior sortimento deveriam vender mais.\n",
    "\n",
    "**H2.** Lojas com competidores mais próximos deveriam vender mais.\n",
    "\n",
    "**H3.** Lojas com competidores a mais tempo deveriam vender mais."
   ]
  },
  {
   "cell_type": "code",
   "execution_count": 59,
   "metadata": {
    "ExecuteTime": {
     "end_time": "2022-11-25T19:49:54.964179Z",
     "start_time": "2022-11-25T19:49:54.936323Z"
    }
   },
   "outputs": [
    {
     "data": {
      "text/html": [
       "<div>\n",
       "<style scoped>\n",
       "    .dataframe tbody tr th:only-of-type {\n",
       "        vertical-align: middle;\n",
       "    }\n",
       "\n",
       "    .dataframe tbody tr th {\n",
       "        vertical-align: top;\n",
       "    }\n",
       "\n",
       "    .dataframe thead th {\n",
       "        text-align: right;\n",
       "    }\n",
       "</style>\n",
       "<table border=\"1\" class=\"dataframe\">\n",
       "  <thead>\n",
       "    <tr style=\"text-align: right;\">\n",
       "      <th></th>\n",
       "      <th>store</th>\n",
       "      <th>day_of_week</th>\n",
       "      <th>date</th>\n",
       "      <th>sales</th>\n",
       "      <th>customers</th>\n",
       "      <th>open</th>\n",
       "      <th>promo</th>\n",
       "      <th>state_holiday</th>\n",
       "      <th>school_holiday</th>\n",
       "      <th>store_type</th>\n",
       "      <th>assortment</th>\n",
       "      <th>competition_distance</th>\n",
       "      <th>competition_open_since_month</th>\n",
       "      <th>competition_open_since_year</th>\n",
       "      <th>promo2</th>\n",
       "      <th>promo2_since_week</th>\n",
       "      <th>promo2_since_year</th>\n",
       "      <th>promo_interval</th>\n",
       "      <th>month_map</th>\n",
       "      <th>is_promo</th>\n",
       "      <th>year</th>\n",
       "      <th>month</th>\n",
       "      <th>day</th>\n",
       "      <th>week_of_year</th>\n",
       "      <th>year_week</th>\n",
       "      <th>competition_since</th>\n",
       "      <th>competition_time_month</th>\n",
       "      <th>promo_since</th>\n",
       "      <th>promo_time_week</th>\n",
       "    </tr>\n",
       "  </thead>\n",
       "  <tbody>\n",
       "    <tr>\n",
       "      <th>0</th>\n",
       "      <td>1</td>\n",
       "      <td>5</td>\n",
       "      <td>2015-07-31</td>\n",
       "      <td>5263</td>\n",
       "      <td>555</td>\n",
       "      <td>1</td>\n",
       "      <td>1</td>\n",
       "      <td>regular_day</td>\n",
       "      <td>1</td>\n",
       "      <td>c</td>\n",
       "      <td>basic</td>\n",
       "      <td>1270.0</td>\n",
       "      <td>9</td>\n",
       "      <td>2008</td>\n",
       "      <td>0</td>\n",
       "      <td>31</td>\n",
       "      <td>2015</td>\n",
       "      <td>0</td>\n",
       "      <td>Jul</td>\n",
       "      <td>0</td>\n",
       "      <td>2015</td>\n",
       "      <td>7</td>\n",
       "      <td>31</td>\n",
       "      <td>31</td>\n",
       "      <td>2015-30</td>\n",
       "      <td>2008-09-01</td>\n",
       "      <td>84</td>\n",
       "      <td>2015-07-27</td>\n",
       "      <td>0</td>\n",
       "    </tr>\n",
       "    <tr>\n",
       "      <th>1</th>\n",
       "      <td>2</td>\n",
       "      <td>5</td>\n",
       "      <td>2015-07-31</td>\n",
       "      <td>6064</td>\n",
       "      <td>625</td>\n",
       "      <td>1</td>\n",
       "      <td>1</td>\n",
       "      <td>regular_day</td>\n",
       "      <td>1</td>\n",
       "      <td>a</td>\n",
       "      <td>basic</td>\n",
       "      <td>570.0</td>\n",
       "      <td>11</td>\n",
       "      <td>2007</td>\n",
       "      <td>1</td>\n",
       "      <td>13</td>\n",
       "      <td>2010</td>\n",
       "      <td>Jan,Apr,Jul,Oct</td>\n",
       "      <td>Jul</td>\n",
       "      <td>1</td>\n",
       "      <td>2015</td>\n",
       "      <td>7</td>\n",
       "      <td>31</td>\n",
       "      <td>31</td>\n",
       "      <td>2015-30</td>\n",
       "      <td>2007-11-01</td>\n",
       "      <td>94</td>\n",
       "      <td>2010-03-22</td>\n",
       "      <td>279</td>\n",
       "    </tr>\n",
       "    <tr>\n",
       "      <th>2</th>\n",
       "      <td>3</td>\n",
       "      <td>5</td>\n",
       "      <td>2015-07-31</td>\n",
       "      <td>8314</td>\n",
       "      <td>821</td>\n",
       "      <td>1</td>\n",
       "      <td>1</td>\n",
       "      <td>regular_day</td>\n",
       "      <td>1</td>\n",
       "      <td>a</td>\n",
       "      <td>basic</td>\n",
       "      <td>14130.0</td>\n",
       "      <td>12</td>\n",
       "      <td>2006</td>\n",
       "      <td>1</td>\n",
       "      <td>14</td>\n",
       "      <td>2011</td>\n",
       "      <td>Jan,Apr,Jul,Oct</td>\n",
       "      <td>Jul</td>\n",
       "      <td>1</td>\n",
       "      <td>2015</td>\n",
       "      <td>7</td>\n",
       "      <td>31</td>\n",
       "      <td>31</td>\n",
       "      <td>2015-30</td>\n",
       "      <td>2006-12-01</td>\n",
       "      <td>105</td>\n",
       "      <td>2011-03-28</td>\n",
       "      <td>226</td>\n",
       "    </tr>\n",
       "    <tr>\n",
       "      <th>3</th>\n",
       "      <td>4</td>\n",
       "      <td>5</td>\n",
       "      <td>2015-07-31</td>\n",
       "      <td>13995</td>\n",
       "      <td>1498</td>\n",
       "      <td>1</td>\n",
       "      <td>1</td>\n",
       "      <td>regular_day</td>\n",
       "      <td>1</td>\n",
       "      <td>c</td>\n",
       "      <td>extended</td>\n",
       "      <td>620.0</td>\n",
       "      <td>9</td>\n",
       "      <td>2009</td>\n",
       "      <td>0</td>\n",
       "      <td>31</td>\n",
       "      <td>2015</td>\n",
       "      <td>0</td>\n",
       "      <td>Jul</td>\n",
       "      <td>0</td>\n",
       "      <td>2015</td>\n",
       "      <td>7</td>\n",
       "      <td>31</td>\n",
       "      <td>31</td>\n",
       "      <td>2015-30</td>\n",
       "      <td>2009-09-01</td>\n",
       "      <td>71</td>\n",
       "      <td>2015-07-27</td>\n",
       "      <td>0</td>\n",
       "    </tr>\n",
       "    <tr>\n",
       "      <th>4</th>\n",
       "      <td>5</td>\n",
       "      <td>5</td>\n",
       "      <td>2015-07-31</td>\n",
       "      <td>4822</td>\n",
       "      <td>559</td>\n",
       "      <td>1</td>\n",
       "      <td>1</td>\n",
       "      <td>regular_day</td>\n",
       "      <td>1</td>\n",
       "      <td>a</td>\n",
       "      <td>basic</td>\n",
       "      <td>29910.0</td>\n",
       "      <td>4</td>\n",
       "      <td>2015</td>\n",
       "      <td>0</td>\n",
       "      <td>31</td>\n",
       "      <td>2015</td>\n",
       "      <td>0</td>\n",
       "      <td>Jul</td>\n",
       "      <td>0</td>\n",
       "      <td>2015</td>\n",
       "      <td>7</td>\n",
       "      <td>31</td>\n",
       "      <td>31</td>\n",
       "      <td>2015-30</td>\n",
       "      <td>2015-04-01</td>\n",
       "      <td>4</td>\n",
       "      <td>2015-07-27</td>\n",
       "      <td>0</td>\n",
       "    </tr>\n",
       "  </tbody>\n",
       "</table>\n",
       "</div>"
      ],
      "text/plain": [
       "   store  day_of_week       date  sales  customers  open  promo state_holiday  school_holiday store_type assortment  competition_distance  competition_open_since_month  competition_open_since_year  promo2  promo2_since_week  promo2_since_year   promo_interval month_map  is_promo  year  month  day  week_of_year year_week competition_since  competition_time_month promo_since  promo_time_week\n",
       "0      1            5 2015-07-31   5263        555     1      1   regular_day               1          c      basic                1270.0                             9                         2008       0                 31               2015                0       Jul         0  2015      7   31            31   2015-30        2008-09-01                      84  2015-07-27                0\n",
       "1      2            5 2015-07-31   6064        625     1      1   regular_day               1          a      basic                 570.0                            11                         2007       1                 13               2010  Jan,Apr,Jul,Oct       Jul         1  2015      7   31            31   2015-30        2007-11-01                      94  2010-03-22              279\n",
       "2      3            5 2015-07-31   8314        821     1      1   regular_day               1          a      basic               14130.0                            12                         2006       1                 14               2011  Jan,Apr,Jul,Oct       Jul         1  2015      7   31            31   2015-30        2006-12-01                     105  2011-03-28              226\n",
       "3      4            5 2015-07-31  13995       1498     1      1   regular_day               1          c   extended                 620.0                             9                         2009       0                 31               2015                0       Jul         0  2015      7   31            31   2015-30        2009-09-01                      71  2015-07-27                0\n",
       "4      5            5 2015-07-31   4822        559     1      1   regular_day               1          a      basic               29910.0                             4                         2015       0                 31               2015                0       Jul         0  2015      7   31            31   2015-30        2015-04-01                       4  2015-07-27                0"
      ]
     },
     "execution_count": 59,
     "metadata": {},
     "output_type": "execute_result"
    }
   ],
   "source": [
    "df2.head()"
   ]
  },
  {
   "cell_type": "code",
   "execution_count": null,
   "metadata": {},
   "outputs": [],
   "source": []
  },
  {
   "cell_type": "code",
   "execution_count": null,
   "metadata": {},
   "outputs": [],
   "source": []
  },
  {
   "cell_type": "code",
   "execution_count": null,
   "metadata": {},
   "outputs": [],
   "source": []
  },
  {
   "cell_type": "code",
   "execution_count": null,
   "metadata": {},
   "outputs": [],
   "source": []
  },
  {
   "cell_type": "markdown",
   "metadata": {},
   "source": [
    "**H4.** Lojas com promoções ativas por mais tempo deveriam vender mais.\n",
    "\n",
    "**H5.** Lojas com mais dias de promoção devriam vender mais.\n",
    "\n",
    "**H6.** Loja com mais promoções consecutivas deveriam vender mais."
   ]
  },
  {
   "cell_type": "markdown",
   "metadata": {},
   "source": [
    "**H7.** Lojas abertas durante o feriado de Natal deveriam vender mais.\n",
    "\n",
    "**H8.** Lojas deveriam vender mais ao longo dos anos.\n",
    "\n",
    "**H9.** Lojas deveriam vender mais no segundo semestre do ano.\n",
    "\n",
    "**H10.** Lojas deveriam vender mais depois do dia 10 de cada mês.\n",
    "\n",
    "**H11.** Lojas deveriam vender menos aos finais de semana.\n",
    "\n",
    "**H12.** Lojas deveriam vender menos durante feriados escolares."
   ]
  },
  {
   "cell_type": "markdown",
   "metadata": {},
   "source": [
    "## 2.4. Feature Engineering"
   ]
  },
  {
   "cell_type": "code",
   "execution_count": 55,
   "metadata": {
    "ExecuteTime": {
     "end_time": "2022-11-25T14:52:42.984780Z",
     "start_time": "2022-11-25T14:52:32.960840Z"
    }
   },
   "outputs": [],
   "source": [
    "# year\n",
    "#df2['year'] = df2['date'].dt.year\n",
    "#\n",
    "## Month\n",
    "#df2['month'] = df2['date'].dt.month\n",
    "#\n",
    "## day\n",
    "#df2['day'] = df2['date'].dt.day\n",
    "#\n",
    "## week of year\n",
    "#df2['week_of_year'] = df2['date'].dt.weekofyear\n",
    "#\n",
    "## year week\n",
    "#df2['year_week'] = df2['date'].dt.strftime('%Y-%W')\n",
    "\n",
    "# competition since\n",
    "#df2['competition_since'] = df2.apply(lambda x: datetime.datetime( year=x['competition_open_since_year'],month=x['competition_open_since_month'],day=1), axis=1)\n",
    "#df2['competition_time_month'] = ((df2['date'] - df2['competition_since'])/30).apply(lambda x: x.days).astype(int)\n",
    "\n",
    "# Promo since\n",
    "#df2['promo_since'] = df2['promo2_since_year'].astype( str ) + '-' + df2['promo2_since_week'].astype( str )\n",
    "#df2['promo_since'] = df2['promo_since'].apply(lambda x: datetime.strptime( x + '-1', '%Y-%W-%w') - timedelta(days=7))\n",
    "#df2['promo_time_week'] = ((df2['date'] - df2['promo_since'])/ 7).apply( lambda x: x.days).astype(int)\n",
    "\n",
    "# assortment\n",
    "#df2['assortment'] = df2['assortment'].apply(lambda x: 'basic' if x == 'a' else 'extra' if x == 'b' else 'extended' )\n",
    "#\n",
    "## state holiday\n",
    "#\n",
    "#df2['state_holiday'] = df2['state_holiday'].apply(lambda x: 'public_holiday' if x == 'a' else 'easter_holiday' if x == 'b' else 'christmas' if x == 'c' else 'regular_day')"
   ]
  },
  {
   "cell_type": "markdown",
   "metadata": {},
   "source": [
    "# 3.0. DATA FILTERING"
   ]
  },
  {
   "cell_type": "code",
   "execution_count": 75,
   "metadata": {
    "ExecuteTime": {
     "end_time": "2022-11-25T20:31:46.229849Z",
     "start_time": "2022-11-25T20:31:46.154963Z"
    }
   },
   "outputs": [],
   "source": [
    "df3 = df2.copy()"
   ]
  },
  {
   "cell_type": "code",
   "execution_count": 76,
   "metadata": {
    "ExecuteTime": {
     "end_time": "2022-11-25T20:31:46.705927Z",
     "start_time": "2022-11-25T20:31:46.682929Z"
    }
   },
   "outputs": [
    {
     "data": {
      "text/html": [
       "<div>\n",
       "<style scoped>\n",
       "    .dataframe tbody tr th:only-of-type {\n",
       "        vertical-align: middle;\n",
       "    }\n",
       "\n",
       "    .dataframe tbody tr th {\n",
       "        vertical-align: top;\n",
       "    }\n",
       "\n",
       "    .dataframe thead th {\n",
       "        text-align: right;\n",
       "    }\n",
       "</style>\n",
       "<table border=\"1\" class=\"dataframe\">\n",
       "  <thead>\n",
       "    <tr style=\"text-align: right;\">\n",
       "      <th></th>\n",
       "      <th>store</th>\n",
       "      <th>day_of_week</th>\n",
       "      <th>date</th>\n",
       "      <th>sales</th>\n",
       "      <th>customers</th>\n",
       "      <th>open</th>\n",
       "      <th>promo</th>\n",
       "      <th>state_holiday</th>\n",
       "      <th>school_holiday</th>\n",
       "      <th>store_type</th>\n",
       "      <th>assortment</th>\n",
       "      <th>competition_distance</th>\n",
       "      <th>competition_open_since_month</th>\n",
       "      <th>competition_open_since_year</th>\n",
       "      <th>promo2</th>\n",
       "      <th>promo2_since_week</th>\n",
       "      <th>promo2_since_year</th>\n",
       "      <th>promo_interval</th>\n",
       "      <th>month_map</th>\n",
       "      <th>is_promo</th>\n",
       "      <th>year</th>\n",
       "      <th>month</th>\n",
       "      <th>day</th>\n",
       "      <th>week_of_year</th>\n",
       "      <th>year_week</th>\n",
       "      <th>competition_since</th>\n",
       "      <th>competition_time_month</th>\n",
       "      <th>promo_since</th>\n",
       "      <th>promo_time_week</th>\n",
       "    </tr>\n",
       "  </thead>\n",
       "  <tbody>\n",
       "    <tr>\n",
       "      <th>0</th>\n",
       "      <td>1</td>\n",
       "      <td>5</td>\n",
       "      <td>2015-07-31</td>\n",
       "      <td>5263</td>\n",
       "      <td>555</td>\n",
       "      <td>1</td>\n",
       "      <td>1</td>\n",
       "      <td>regular_day</td>\n",
       "      <td>1</td>\n",
       "      <td>c</td>\n",
       "      <td>basic</td>\n",
       "      <td>1270.0</td>\n",
       "      <td>9</td>\n",
       "      <td>2008</td>\n",
       "      <td>0</td>\n",
       "      <td>31</td>\n",
       "      <td>2015</td>\n",
       "      <td>0</td>\n",
       "      <td>Jul</td>\n",
       "      <td>0</td>\n",
       "      <td>2015</td>\n",
       "      <td>7</td>\n",
       "      <td>31</td>\n",
       "      <td>31</td>\n",
       "      <td>2015-30</td>\n",
       "      <td>2008-09-01</td>\n",
       "      <td>84</td>\n",
       "      <td>2015-07-27</td>\n",
       "      <td>0</td>\n",
       "    </tr>\n",
       "    <tr>\n",
       "      <th>1</th>\n",
       "      <td>2</td>\n",
       "      <td>5</td>\n",
       "      <td>2015-07-31</td>\n",
       "      <td>6064</td>\n",
       "      <td>625</td>\n",
       "      <td>1</td>\n",
       "      <td>1</td>\n",
       "      <td>regular_day</td>\n",
       "      <td>1</td>\n",
       "      <td>a</td>\n",
       "      <td>basic</td>\n",
       "      <td>570.0</td>\n",
       "      <td>11</td>\n",
       "      <td>2007</td>\n",
       "      <td>1</td>\n",
       "      <td>13</td>\n",
       "      <td>2010</td>\n",
       "      <td>Jan,Apr,Jul,Oct</td>\n",
       "      <td>Jul</td>\n",
       "      <td>1</td>\n",
       "      <td>2015</td>\n",
       "      <td>7</td>\n",
       "      <td>31</td>\n",
       "      <td>31</td>\n",
       "      <td>2015-30</td>\n",
       "      <td>2007-11-01</td>\n",
       "      <td>94</td>\n",
       "      <td>2010-03-22</td>\n",
       "      <td>279</td>\n",
       "    </tr>\n",
       "    <tr>\n",
       "      <th>2</th>\n",
       "      <td>3</td>\n",
       "      <td>5</td>\n",
       "      <td>2015-07-31</td>\n",
       "      <td>8314</td>\n",
       "      <td>821</td>\n",
       "      <td>1</td>\n",
       "      <td>1</td>\n",
       "      <td>regular_day</td>\n",
       "      <td>1</td>\n",
       "      <td>a</td>\n",
       "      <td>basic</td>\n",
       "      <td>14130.0</td>\n",
       "      <td>12</td>\n",
       "      <td>2006</td>\n",
       "      <td>1</td>\n",
       "      <td>14</td>\n",
       "      <td>2011</td>\n",
       "      <td>Jan,Apr,Jul,Oct</td>\n",
       "      <td>Jul</td>\n",
       "      <td>1</td>\n",
       "      <td>2015</td>\n",
       "      <td>7</td>\n",
       "      <td>31</td>\n",
       "      <td>31</td>\n",
       "      <td>2015-30</td>\n",
       "      <td>2006-12-01</td>\n",
       "      <td>105</td>\n",
       "      <td>2011-03-28</td>\n",
       "      <td>226</td>\n",
       "    </tr>\n",
       "    <tr>\n",
       "      <th>3</th>\n",
       "      <td>4</td>\n",
       "      <td>5</td>\n",
       "      <td>2015-07-31</td>\n",
       "      <td>13995</td>\n",
       "      <td>1498</td>\n",
       "      <td>1</td>\n",
       "      <td>1</td>\n",
       "      <td>regular_day</td>\n",
       "      <td>1</td>\n",
       "      <td>c</td>\n",
       "      <td>extended</td>\n",
       "      <td>620.0</td>\n",
       "      <td>9</td>\n",
       "      <td>2009</td>\n",
       "      <td>0</td>\n",
       "      <td>31</td>\n",
       "      <td>2015</td>\n",
       "      <td>0</td>\n",
       "      <td>Jul</td>\n",
       "      <td>0</td>\n",
       "      <td>2015</td>\n",
       "      <td>7</td>\n",
       "      <td>31</td>\n",
       "      <td>31</td>\n",
       "      <td>2015-30</td>\n",
       "      <td>2009-09-01</td>\n",
       "      <td>71</td>\n",
       "      <td>2015-07-27</td>\n",
       "      <td>0</td>\n",
       "    </tr>\n",
       "    <tr>\n",
       "      <th>4</th>\n",
       "      <td>5</td>\n",
       "      <td>5</td>\n",
       "      <td>2015-07-31</td>\n",
       "      <td>4822</td>\n",
       "      <td>559</td>\n",
       "      <td>1</td>\n",
       "      <td>1</td>\n",
       "      <td>regular_day</td>\n",
       "      <td>1</td>\n",
       "      <td>a</td>\n",
       "      <td>basic</td>\n",
       "      <td>29910.0</td>\n",
       "      <td>4</td>\n",
       "      <td>2015</td>\n",
       "      <td>0</td>\n",
       "      <td>31</td>\n",
       "      <td>2015</td>\n",
       "      <td>0</td>\n",
       "      <td>Jul</td>\n",
       "      <td>0</td>\n",
       "      <td>2015</td>\n",
       "      <td>7</td>\n",
       "      <td>31</td>\n",
       "      <td>31</td>\n",
       "      <td>2015-30</td>\n",
       "      <td>2015-04-01</td>\n",
       "      <td>4</td>\n",
       "      <td>2015-07-27</td>\n",
       "      <td>0</td>\n",
       "    </tr>\n",
       "  </tbody>\n",
       "</table>\n",
       "</div>"
      ],
      "text/plain": [
       "   store  day_of_week       date  sales  customers  open  promo state_holiday  school_holiday store_type assortment  competition_distance  competition_open_since_month  competition_open_since_year  promo2  promo2_since_week  promo2_since_year   promo_interval month_map  is_promo  year  month  day  week_of_year year_week competition_since  competition_time_month promo_since  promo_time_week\n",
       "0      1            5 2015-07-31   5263        555     1      1   regular_day               1          c      basic                1270.0                             9                         2008       0                 31               2015                0       Jul         0  2015      7   31            31   2015-30        2008-09-01                      84  2015-07-27                0\n",
       "1      2            5 2015-07-31   6064        625     1      1   regular_day               1          a      basic                 570.0                            11                         2007       1                 13               2010  Jan,Apr,Jul,Oct       Jul         1  2015      7   31            31   2015-30        2007-11-01                      94  2010-03-22              279\n",
       "2      3            5 2015-07-31   8314        821     1      1   regular_day               1          a      basic               14130.0                            12                         2006       1                 14               2011  Jan,Apr,Jul,Oct       Jul         1  2015      7   31            31   2015-30        2006-12-01                     105  2011-03-28              226\n",
       "3      4            5 2015-07-31  13995       1498     1      1   regular_day               1          c   extended                 620.0                             9                         2009       0                 31               2015                0       Jul         0  2015      7   31            31   2015-30        2009-09-01                      71  2015-07-27                0\n",
       "4      5            5 2015-07-31   4822        559     1      1   regular_day               1          a      basic               29910.0                             4                         2015       0                 31               2015                0       Jul         0  2015      7   31            31   2015-30        2015-04-01                       4  2015-07-27                0"
      ]
     },
     "execution_count": 76,
     "metadata": {},
     "output_type": "execute_result"
    }
   ],
   "source": [
    "df3.head()"
   ]
  },
  {
   "cell_type": "markdown",
   "metadata": {},
   "source": [
    "## 3.1. Filtragem de linhas "
   ]
  },
  {
   "cell_type": "code",
   "execution_count": 77,
   "metadata": {
    "ExecuteTime": {
     "end_time": "2022-11-25T20:31:53.968396Z",
     "start_time": "2022-11-25T20:31:53.853029Z"
    }
   },
   "outputs": [],
   "source": [
    "df3 = df3[(df3['open'] != 0) & (df3['sales'] > 0)]"
   ]
  },
  {
   "cell_type": "markdown",
   "metadata": {},
   "source": [
    "## 3.2. Filtragem de colunas"
   ]
  },
  {
   "cell_type": "code",
   "execution_count": 78,
   "metadata": {
    "ExecuteTime": {
     "end_time": "2022-11-25T20:33:49.120513Z",
     "start_time": "2022-11-25T20:33:49.052061Z"
    }
   },
   "outputs": [],
   "source": [
    "cols_drop = ['customers','open','promo_interval','month_map']\n",
    "df3 = df3.drop(cols_drop, axis=1)"
   ]
  },
  {
   "cell_type": "code",
   "execution_count": 79,
   "metadata": {
    "ExecuteTime": {
     "end_time": "2022-11-25T20:34:05.814902Z",
     "start_time": "2022-11-25T20:34:05.804325Z"
    }
   },
   "outputs": [
    {
     "data": {
      "text/plain": [
       "Index(['store', 'day_of_week', 'date', 'sales', 'promo', 'state_holiday',\n",
       "       'school_holiday', 'store_type', 'assortment', 'competition_distance',\n",
       "       'competition_open_since_month', 'competition_open_since_year', 'promo2',\n",
       "       'promo2_since_week', 'promo2_since_year', 'is_promo', 'year', 'month',\n",
       "       'day', 'week_of_year', 'year_week', 'competition_since',\n",
       "       'competition_time_month', 'promo_since', 'promo_time_week'],\n",
       "      dtype='object')"
      ]
     },
     "execution_count": 79,
     "metadata": {},
     "output_type": "execute_result"
    }
   ],
   "source": [
    "df3.columns"
   ]
  },
  {
   "cell_type": "markdown",
   "metadata": {},
   "source": [
    "## 4.0. EXPLORATORY DATA ANALYSIS (EDA)"
   ]
  },
  {
   "cell_type": "code",
   "execution_count": null,
   "metadata": {},
   "outputs": [],
   "source": []
  }
 ],
 "metadata": {
  "hide_input": false,
  "kernelspec": {
   "display_name": "Python 3 (ipykernel)",
   "language": "python",
   "name": "python3"
  },
  "language_info": {
   "codemirror_mode": {
    "name": "ipython",
    "version": 3
   },
   "file_extension": ".py",
   "mimetype": "text/x-python",
   "name": "python",
   "nbconvert_exporter": "python",
   "pygments_lexer": "ipython3",
   "version": "3.8.13"
  }
 },
 "nbformat": 4,
 "nbformat_minor": 2
}
