{
 "cells": [
  {
   "cell_type": "markdown",
   "metadata": {},
   "source": [
    "# 0.0. IMPORTS"
   ]
  },
  {
   "cell_type": "code",
   "execution_count": 1,
   "metadata": {
    "ExecuteTime": {
     "end_time": "2023-07-25T00:40:49.101815Z",
     "start_time": "2023-07-25T00:40:46.522047Z"
    }
   },
   "outputs": [],
   "source": [
    "import pandas as pd\n",
    "import numpy  as np\n",
    "#import pickle as pi\n",
    "import inflection\n",
    "import math\n",
    "from IPython.display import Image\n",
    "#import warnings\n",
    "#\n",
    "#from pandas.plotting       import scatter_matrix\n",
    "#from pandas_profiling      import ProfileReport\n",
    "#\n",
    "import seaborn as sns\n",
    "from matplotlib            import pyplot as plt\n",
    "import matplotlib.patches as  mpatches\n",
    "#from matplotlib.gridspec   import GridSpec\n",
    "#import plotly.express as px\n",
    "#import plotly.figure_factory as ff\n",
    "#\n",
    "from datetime import timedelta\n",
    "import datetime \n",
    "#import re \n",
    "#\n",
    "from scipy import stats\n",
    "#import statsmodels.api as sm\n",
    "#from iv                             import analise_iv as i\n",
    "#from matplotlib.widgets             import Button\n",
    "from IPython.core.display           import HTML\n",
    "#from tabulate                       import tabulate\n",
    "#\n",
    "## Data preprocessing\n",
    "#\n",
    "from boruta import BorutaPy\n",
    "from sklearn.ensemble import RandomForestRegressor\n",
    "from sklearn.preprocessing          import RobustScaler, MinMaxScaler, LabelEncoder, OrdinalEncoder\n",
    "#from sklearn.model_selection        import StratifiedShuffleSplit, StratifiedKFold, RepeatedStratifiedKFold\n",
    "#from sklearn.model_selection        import cross_val_score, cross_validate, cross_val_predict\n",
    "#from sklearn.model_selection        import train_test_split\n",
    "#from sklearn.model_selection        import RandomizedSearchCV, GridSearchCV\n",
    "#\n",
    "## Machine leaarning models\n",
    "#\n",
    "#from sklearn.linear_model           import LogisticRegression\n",
    "#\n",
    "#\n",
    "## Evaluating metrics\n",
    "#\n",
    "#from sklearn.metrics                import precision_score, recall_score, f1_score, roc_auc_score, accuracy_score\n",
    "#from sklern.metrics                 import confusion_matrix, precision_recall_curve\n",
    "#\n",
    "#\n",
    "#warnings.filterwarnings('ignore')\n",
    "#"
   ]
  },
  {
   "cell_type": "markdown",
   "metadata": {},
   "source": [
    "## 0.1. Helper Functions"
   ]
  },
  {
   "cell_type": "code",
   "execution_count": 2,
   "metadata": {
    "ExecuteTime": {
     "end_time": "2023-07-25T00:40:54.536029Z",
     "start_time": "2023-07-25T00:40:54.449946Z"
    }
   },
   "outputs": [
    {
     "name": "stdout",
     "output_type": "stream",
     "text": [
      "%pylab is deprecated, use %matplotlib inline and import the required libraries.\n",
      "Populating the interactive namespace from numpy and matplotlib\n"
     ]
    },
    {
     "data": {
      "text/html": [
       "<style>.container { width:100% !important; }</style>"
      ],
      "text/plain": [
       "<IPython.core.display.HTML object>"
      ]
     },
     "metadata": {},
     "output_type": "display_data"
    }
   ],
   "source": [
    "def cramer_v (x, y):\n",
    "    cm = pd.crosstab( x, y).values\n",
    "    n = cm.sum()\n",
    "    r, k = cm.shape\n",
    "    \n",
    "    chi2 = stats.chi2_contingency( cm )[0]\n",
    "    chi2corr = max (0, chi2 - (k-1) * (r-1)/ (n-1))\n",
    "    \n",
    "    kcorr = k - (k-1)**2/(n-1)\n",
    "    rcorr = r - (r-1)**2/(n-1)\n",
    "    \n",
    "    \n",
    "    return np.sqrt( (chi2corr/n) / (min (kcorr-1, rcorr-1)))\n",
    "\n",
    "def jupyter_settings():\n",
    "    %matplotlib inline\n",
    "    %pylab inline\n",
    "    \n",
    "    plt.style.use( 'bmh')\n",
    "    plt.rcParams['figure.figsize'] = [25, 12]\n",
    "    plt.rcParams['font.size'] = 24\n",
    "    \n",
    "    display( HTML( '<style>.container { width:100% !important; }</style>') )\n",
    "    pd.options.display.max_columns = None\n",
    "    pd.options.display.max_rows = None\n",
    "    pd.set_option( 'display.expand_frame_repr', False )\n",
    "    \n",
    "    sns.set()\n",
    "    \n",
    "jupyter_settings()\n",
    "\n",
    "#def jupyter_settings():\n",
    "#    %matplotlib inline\n",
    "#    %pylab inline\n",
    "#    \n",
    "#    plt.style.use( 'bmh' )\n",
    "#    plt.rcParams['figure.figsize'] = [25, 12]\n",
    "#    plt.rcParams['font.size'] = 24\n",
    "#    \n",
    "#    display( HTML( '<style>.container { width:100% !important; }</style>') )\n",
    "#    pd.options.display.max_columns = None\n",
    "#    pd.options.display.max_rows = None\n",
    "#    pd.set_option( 'display.expand_frame_repr', False )\n",
    "#    \n",
    "#    sns.set()\n",
    "#    \n",
    "#jupyter_settings()\n",
    "\n",
    "\n",
    "# Frequency table\n",
    "def frequency(df, vars):\n",
    "    if len(vars)> 0:\n",
    "        c1 = df[vars[0]]\n",
    "        c2 = []\n",
    "        for i in range(1,len(vars)):\n",
    "            c2.append(df[vars[i]])\n",
    "            dfs = []\n",
    "            dfs.append(pd.crosstab(c1,c2).unstack().reset_index().rename(columns={0: 'contagem'}))\n",
    "            dfs.append(pd.crosstab(c1,c2, normalize='all').unstack().reset_index().rename(columns={0:'percent'}))\n",
    "            dfs = [df.set_index(vars) for df in dfs]\n",
    "            df = dfs[0].join(dfs[1:]).reset_index()\n",
    "            return df \n",
    "        \n",
    "# Outliers\n",
    "def outliers(dataset, var):\n",
    "    \n",
    "    figure, gr = plt.subplots()\n",
    "    \n",
    "    gr.figure.set_size_inches(14,12)\n",
    "    \n",
    "    plt.subplot(2,1,1)\n",
    "    gr = sns.histplot(dataset[var], bins=50)\n",
    "    plt.xlabel(var, fontsize=14)\n",
    "    plt.ylabel('Density', fontsize=14)\n",
    "    \n",
    "    plt.subplot(2,1,2)\n",
    "    gr = sns.boxplot(dataset[var])\n",
    "    plt.xlabel(var, fontsize=14)\n",
    "    plt.show()\n",
    "    \n",
    "    # calculando Q1, Q3 and FIQ\n",
    "    Q1 = dataset[var].quantile(0.25)\n",
    "    Q3 = dataset[var].quantile(0.75)\n",
    "    FIQ = Q3 - Q1\n",
    "    \n",
    "    # calculando o limite dos outliers\n",
    "    min_outlier = Q1 - 1.5 * FIQ\n",
    "    max_outlier = Q3 + 1.5 * FIQ\n",
    "    \n",
    "    print('Limites para outliers: ''\\n')\n",
    "    print(f'Q1 = {Q1}\\nQ3 = {Q3}\\nFIQ = {FIQ}\\nmin_outlier = {min_outlier}\\nmax_outlier = {max_outlier}')\n",
    "\n",
    "# Coeficiente de determinação R²\n",
    "\n",
    "def coef_r2(dataset, var_1, target):\n",
    "    \n",
    "    a = dataset[[var_1, target]]\n",
    "    b = dataset[dataset[target]== 0]\n",
    "    c = dataset[dataset[target]== 1]\n",
    "    d = ((len(c)*c[var_1].var())+(len(b)*b[var_1].var()))/ len(a)\n",
    "    e = a[var_1].var()\n",
    "    \n",
    "    r2 = 1 - (d/e)\n",
    "    \n",
    "    return r2\n",
    "\n",
    "\n",
    "## Função feature selection\n",
    "#\n",
    "#def feature_selection(x_treino, y_treino):\n",
    "#    rf = RandomForestClassifier(random_state=42)\n",
    "#    rf.fit(x_treino, y_treino)\n",
    "#    \n",
    "#    feat_imp = pd.DataFrame({'Váriaveis': x_treino.columns,\n",
    "#                            'Importância da Variável': rf.feature_importances_}).sort_values('Importância da Variável',\n",
    "#                                                                                            ascending=False).reset_index(drop=True)\n",
    "#    plt.subplot(figsize=(12,6))\n",
    "#    sns.barplot(x='Importância da Variável',y='Váriaveis', data=feat_imp,orient='h',color='green')\n",
    "#    plt.show()\n",
    "#\n",
    "## Função performance dados teste\n",
    "#\n",
    "#def performance_treino(x_treino, y_treino, x_teste, y_teste, modelo, nome_modelo):\n",
    "#    #treinando modelo\n",
    "#    modelo.fit(x_treino, y_treino)\n",
    "#    \n",
    "#    # Previsões do modelo \n",
    "#    \n",
    "#    y_hat = modelo.predict(x_teste)\n",
    "#    \n",
    "#    # Métricas de performance\n",
    "#    \n",
    "#    acuracia = accuracy_score(y_teste, y_hat)\n",
    "#    precisao = precision_score(y_teste,y_hat)\n",
    "#    sensibilidade = recall_score(y_teste, y_hat)\n",
    "#    f1 = f1_score(y_teste, y_hat)\n",
    "#    \n",
    "#    # Dataframe das métricas\n",
    "#    \n",
    "#    df_performance = pd.DataFrame({'Acurácia': acuracia,\n",
    "#                                   'Precisão': precisao,\n",
    "#                                   'Sensibilidade': sensibilidade,\n",
    "#                                   'F1_score': f1}, index=[nome_modelo])\n",
    "#    \n",
    "#    # Matriz de confusão\n",
    "#    cm = confusion_matrix (y_teste, y_hat)\n",
    "#    \n",
    "#    # Heatmap matriz de confusão\n",
    "#    \n",
    "#    df_cm = pd.DataFrame(cm)\n",
    "#    \n",
    "#    return df_performance, df_cm\n",
    "#\n",
    "## Função cross validation\n",
    "#\n",
    "#def validacao_cruzada(x, y, classificadores, nomes_classificadores):\n",
    "#    \n",
    "#    resultados = {}\n",
    "#    \n",
    "#    for i in range(len(classificadores)):\n",
    "#        accs_vc = cross_validate(classificadores[i], x, y, cv=StratifiedKFold(n_splits=10),\n",
    "#                                scoring = ['accuracy', 'precision', 'recall','f1'])\n",
    "#        \n",
    "#        acc = accs_vc['accuracy_test'].mean()\n",
    "#        prec = accs_vc['precision_test'].mean()\n",
    "#        sens = accs_vc['recall_test'].mean()\n",
    "#        f1 = accs_vc['f1_test'].mean()\n",
    "#        \n",
    "#        resultados[nomes_classificadores[i]] = [acc,prec,sens,f1]\n",
    "#        resultados = pd.DataFrame(resultados, index=['Acurácia', 'Precisão','Sensibilidade', 'F1-Score'])\n",
    "#        \n",
    "#        return resultados\n",
    "#    \n",
    "## Função ML + cross validation - dados de treino\n",
    "#\n",
    "#def machine_learning(classificadores, nomes_classificadores, x_treino, y_treino):\n",
    "#     \n",
    "#    for clf in classificadores:\n",
    "#        print('Treinando modelos' + type(clf).__name__+ '...')\n",
    "#       # treinando classificador\n",
    "#        clf.fit(x_treino, y_treino)\n",
    "#            \n",
    "#        perfomance = validacao_cruzada(x_treino,y_treino,classificadores,nomes_classificadores)\n",
    "#            \n",
    "#    return perfomance.T \n",
    "#\n",
    "## Matrizes de confusão\n",
    "#\n",
    "#def matrizes_confusao(modelos, x_treino,y_treino,linhas, colunas, a, b):\n",
    "#    \n",
    "#    # plot\n",
    "#    fig, ax = plt.subplot(nrows = linhas, ncols = colunas, figsize=(a,b))\n",
    "#    \n",
    "#    for mod, ax, n in zip (range(len(modelos)), ax.flatten(), list(range(linhas*colunas))):\n",
    "#        \n",
    "#        plt.subplot(linhas, colunas, n+1)\n",
    "#        \n",
    "#        predicoes = cross_val_predict(modelos[mod], x_treino,y_treino, cv=StratifiedKFold(n_splits=10))\n",
    "#        \n",
    "#        cm - confusion_matrix(y_treino, predicoes)\n",
    "#        \n",
    "#        ax = sns.heatmap(cm, annot=True, fmt='g', cmap='viridis',\n",
    "#                         square=True, annot_kws={'size': 14})\n",
    "#        \n",
    "#        plt.xlabel('Predict Value')\n",
    "#        plt.ylabel('Real Value')\n",
    "#        ax.title.set_text(type(modelos[mod]).__name__)\n",
    "#    plt.tight_layout()\n",
    "#    plt.show()\n",
    "#    \n",
    "## Função Hyperparameter finetunnig\n",
    "#\n",
    "#def hipertunagem( modelo,treino,target,tipo = 'grid', n_iter=20 ):\n",
    "#    \n",
    "#    validacao = RepeatedStratifiedKFold(n_splits=10, n_repeats=3)\n",
    "#    \n",
    "#    if tipo =='grid':\n",
    "#        search = GridSearchCV(modelo, param_grid=parametros,\n",
    "#                              scoring= 'f1', cv = validacao,\n",
    "#                              n_iter=n_iter, verbose=1, n_jobs=-1)\n",
    "#    \n",
    "#    elif tipo == 'random':\n",
    "#        search = RandomizedSearchCV(modelo, param_distributions=parametros,\n",
    "#                                    scoring= 'f1', cv = validacao,\n",
    "#                                    n_iter=n_iter, verbose=1, n_jobs=-1)\n",
    "#    else:\n",
    "#        print('Entrada invalida no argumento \"tipo\"')\n",
    "#        \n",
    "#    \n",
    "#    search.fit(treino,target)\n",
    "#    \n",
    "#    estimadores = search.best_estimator_\n",
    "#    \n",
    "#    print('\\nF1-Score: {:.4f}'.format(search.best_score_))\n",
    "#    \n",
    "#    print('Melhores parâmetros: {}\\n'.format(search.best_params))\n",
    "#    \n",
    "#    return estimadores\n",
    "#\n",
    "#\n",
    "## função performance dados de teste - possibilidade variação threshold\n",
    "#\n",
    "#def perfomance_teste1(nome_modelo,modelo, x_teste,y_teste, threshold):\n",
    "#    \n",
    "#    # predict\n",
    "#    \n",
    "#    y_hat = modelo.predict_proba(x_teste)\n",
    "#    \n",
    "#    #dataframe\n",
    "#    \n",
    "#    probs = pd.DataFrame(y_hat[:,1], columns=['probs'])\n",
    "#    \n",
    "#    # appling threshold\n",
    "#    \n",
    "#    y_hat = probs['probs'].apply(lambda x: 1 if x > threshold else 0)\n",
    "#    \n",
    "#    # Métricas de performance\n",
    "#    \n",
    "#    accuracy = accuracy_score(y_teste, y_hat)\n",
    "#    precision  = precision_score(y_teste,y_hat)\n",
    "#    recall = recall_score(y_teste, y_hat)\n",
    "#    f1 = f1_score(y_teste, y_hat)\n",
    "#    roc_auc = roc_auc_score(y_teste,y_hat)\n",
    "#    \n",
    "#    # Dataframe das métricas\n",
    "#    \n",
    "#    performance_df = pd.DataFrame({'Acurácia': acuracia,\n",
    "#                                   'Precisão': precisao,\n",
    "#                                   'Sensibilidade': sensibilidade,\n",
    "#                                   'F1_score': f1,\n",
    "#                                   'ROC AUC Score': roc_auc},index=[nome_modelo])\n",
    "#    \n",
    "#    # Matriz de confusão\n",
    "#    cm = confusion_matrix (y_teste, y_hat)\n",
    "#    \n",
    "#    # Heatmap matriz de confusão\n",
    "#    \n",
    "#    cm_df = sns.heatmap(cm, annot=True,fmt='g', cmap='Greens',\n",
    "#                        square=True, annot_kws={'size': 14})\n",
    "#    \n",
    "#        \n",
    "#    return performance_df, cm_df"
   ]
  },
  {
   "cell_type": "markdown",
   "metadata": {},
   "source": [
    "## 0.2. Loading data"
   ]
  },
  {
   "cell_type": "code",
   "execution_count": 3,
   "metadata": {
    "ExecuteTime": {
     "end_time": "2023-07-25T00:41:03.834537Z",
     "start_time": "2023-07-25T00:41:02.941732Z"
    }
   },
   "outputs": [],
   "source": [
    "df_sales_raw = pd.read_csv( 'train.csv', low_memory=False )\n",
    "df_store_raw = pd.read_csv( 'store.csv', low_memory=False )\n",
    "\n",
    "# merge\n",
    "df_raw = pd.merge( df_sales_raw, df_store_raw, how='left', on='Store' )"
   ]
  },
  {
   "cell_type": "code",
   "execution_count": 5,
   "metadata": {
    "ExecuteTime": {
     "end_time": "2023-03-14T12:58:23.579848Z",
     "start_time": "2023-03-14T12:58:23.568801Z"
    }
   },
   "outputs": [],
   "source": [
    "#df_raw.head()"
   ]
  },
  {
   "cell_type": "markdown",
   "metadata": {},
   "source": [
    "# 1.0 DESCRICAO DOS DADOS"
   ]
  },
  {
   "cell_type": "code",
   "execution_count": 4,
   "metadata": {
    "ExecuteTime": {
     "end_time": "2023-07-25T00:41:09.143653Z",
     "start_time": "2023-07-25T00:41:09.019756Z"
    }
   },
   "outputs": [],
   "source": [
    "df1 = df_raw.copy()"
   ]
  },
  {
   "cell_type": "code",
   "execution_count": 5,
   "metadata": {
    "ExecuteTime": {
     "end_time": "2023-07-25T00:41:11.275947Z",
     "start_time": "2023-07-25T00:41:11.244106Z"
    }
   },
   "outputs": [],
   "source": [
    "del df_raw"
   ]
  },
  {
   "cell_type": "markdown",
   "metadata": {},
   "source": [
    "## 1.1. Rename Columns"
   ]
  },
  {
   "cell_type": "code",
   "execution_count": 6,
   "metadata": {
    "ExecuteTime": {
     "end_time": "2023-07-25T00:41:12.232703Z",
     "start_time": "2023-07-25T00:41:12.220650Z"
    }
   },
   "outputs": [],
   "source": [
    "cols_old = ['Store', 'DayOfWeek', 'Date', 'Sales', 'Customers', 'Open', 'Promo', 'StateHoliday', 'SchoolHoliday', \n",
    "            'StoreType', 'Assortment', 'CompetitionDistance', 'CompetitionOpenSinceMonth',\n",
    "            'CompetitionOpenSinceYear', 'Promo2', 'Promo2SinceWeek', 'Promo2SinceYear', 'PromoInterval']\n",
    "\n",
    "snakecase = lambda x: inflection.underscore( x )\n",
    "\n",
    "cols_new = list( map( snakecase, cols_old ) )\n",
    "\n",
    "# rename\n",
    "df1.columns = cols_new"
   ]
  },
  {
   "cell_type": "markdown",
   "metadata": {
    "ExecuteTime": {
     "end_time": "2019-11-10T11:26:41.736121Z",
     "start_time": "2019-11-10T11:26:41.732986Z"
    }
   },
   "source": [
    "## 1.2. Data Dimensions"
   ]
  },
  {
   "cell_type": "code",
   "execution_count": 9,
   "metadata": {
    "ExecuteTime": {
     "end_time": "2023-03-14T16:16:09.523311Z",
     "start_time": "2023-03-14T16:16:09.507266Z"
    }
   },
   "outputs": [
    {
     "name": "stdout",
     "output_type": "stream",
     "text": [
      "Number of Rows: 1017209\n",
      "Number of Cols: 18\n"
     ]
    }
   ],
   "source": [
    "print( 'Number of Rows: {}'.format( df1.shape[0] ) )\n",
    "print( 'Number of Cols: {}'.format( df1.shape[1] ) )"
   ]
  },
  {
   "cell_type": "markdown",
   "metadata": {
    "ExecuteTime": {
     "end_time": "2019-11-10T11:26:41.736121Z",
     "start_time": "2019-11-10T11:26:41.732986Z"
    }
   },
   "source": [
    "## 1.3. Data Types"
   ]
  },
  {
   "cell_type": "code",
   "execution_count": 10,
   "metadata": {
    "ExecuteTime": {
     "end_time": "2023-03-14T16:16:12.910781Z",
     "start_time": "2023-03-14T16:16:12.800472Z"
    }
   },
   "outputs": [
    {
     "data": {
      "text/plain": [
       "store                                    int64\n",
       "day_of_week                              int64\n",
       "date                            datetime64[ns]\n",
       "sales                                    int64\n",
       "customers                                int64\n",
       "open                                     int64\n",
       "promo                                    int64\n",
       "state_holiday                           object\n",
       "school_holiday                           int64\n",
       "store_type                              object\n",
       "assortment                              object\n",
       "competition_distance                   float64\n",
       "competition_open_since_month           float64\n",
       "competition_open_since_year            float64\n",
       "promo2                                   int64\n",
       "promo2_since_week                      float64\n",
       "promo2_since_year                      float64\n",
       "promo_interval                          object\n",
       "dtype: object"
      ]
     },
     "execution_count": 10,
     "metadata": {},
     "output_type": "execute_result"
    }
   ],
   "source": [
    "df1['date'] = pd.to_datetime( df1['date'] )\n",
    "df1.dtypes"
   ]
  },
  {
   "cell_type": "markdown",
   "metadata": {
    "ExecuteTime": {
     "end_time": "2019-11-10T11:26:41.736121Z",
     "start_time": "2019-11-10T11:26:41.732986Z"
    }
   },
   "source": [
    "## 1.4. Check NA"
   ]
  },
  {
   "cell_type": "code",
   "execution_count": 11,
   "metadata": {
    "ExecuteTime": {
     "end_time": "2023-03-14T16:16:17.718608Z",
     "start_time": "2023-03-14T16:16:17.339269Z"
    }
   },
   "outputs": [
    {
     "data": {
      "text/plain": [
       "store                                0\n",
       "day_of_week                          0\n",
       "date                                 0\n",
       "sales                                0\n",
       "customers                            0\n",
       "open                                 0\n",
       "promo                                0\n",
       "state_holiday                        0\n",
       "school_holiday                       0\n",
       "store_type                           0\n",
       "assortment                           0\n",
       "competition_distance              2642\n",
       "competition_open_since_month    323348\n",
       "competition_open_since_year     323348\n",
       "promo2                               0\n",
       "promo2_since_week               508031\n",
       "promo2_since_year               508031\n",
       "promo_interval                  508031\n",
       "dtype: int64"
      ]
     },
     "execution_count": 11,
     "metadata": {},
     "output_type": "execute_result"
    }
   ],
   "source": [
    "df1.isna().sum()"
   ]
  },
  {
   "cell_type": "markdown",
   "metadata": {
    "ExecuteTime": {
     "end_time": "2019-11-10T11:26:41.736121Z",
     "start_time": "2019-11-10T11:26:41.732986Z"
    }
   },
   "source": [
    "## 1.5. Fillout NA"
   ]
  },
  {
   "cell_type": "code",
   "execution_count": 12,
   "metadata": {
    "ExecuteTime": {
     "end_time": "2023-03-14T16:17:27.499281Z",
     "start_time": "2023-03-14T16:16:21.410327Z"
    }
   },
   "outputs": [],
   "source": [
    "#competition_distance\n",
    "df1['competition_distance'] = df1['competition_distance'].apply(lambda x: 200000.0 if math.isnan(x) else (x))\n",
    "\n",
    "#competition_open_since_month\n",
    "df1['competition_open_since_month'] = df1.apply(lambda x: x['date'].month if math.isnan(x['competition_open_since_month']) else x['competition_open_since_month'], axis=1)\n",
    "\n",
    "#competition_open_since_year\n",
    "df1['competition_open_since_year'] = df1.apply(lambda x: x['date'].year if math.isnan(x['competition_open_since_year']) else x['competition_open_since_year'], axis=1)\n",
    "\n",
    "#promo2_since_week\n",
    "df1['promo2_since_week'] = df1.apply(lambda x: x['date'].week if math.isnan(x['promo2_since_week']) else x['promo2_since_week'], axis=1)\n",
    "\n",
    "#promo2_since_year\n",
    "df1['promo2_since_year'] = df1.apply(lambda x: x['date'].year if math.isnan(x['promo2_since_year']) else x['promo2_since_year'], axis=1)\n",
    "\n",
    "#promo_interval \n",
    "month_map = {1: 'Jan',2: 'Feb',3: 'Mar',4: 'Apr',5: 'May',6: 'Jun',7: 'Jul',8: 'Aug',9: 'Sep',10: 'Oct',11: 'Nov',12: 'Dec'}\n",
    "\n",
    "df1['promo_interval'].fillna(0, inplace=True)\n",
    "\n",
    "df1['month_map'] = df1['date'].dt.month.map(month_map) \n",
    "\n",
    "df1['is_promo'] = df1[['promo_interval','month_map']].apply(lambda x: 0 if x['promo_interval'] == 0 else 1 if x['month_map'] in x['promo_interval'].split(',') else 0, axis=1)\n",
    "\n"
   ]
  },
  {
   "cell_type": "code",
   "execution_count": 13,
   "metadata": {
    "ExecuteTime": {
     "end_time": "2023-03-14T16:17:54.139848Z",
     "start_time": "2023-03-14T16:17:53.673937Z"
    }
   },
   "outputs": [
    {
     "data": {
      "text/plain": [
       "store                           0\n",
       "day_of_week                     0\n",
       "date                            0\n",
       "sales                           0\n",
       "customers                       0\n",
       "open                            0\n",
       "promo                           0\n",
       "state_holiday                   0\n",
       "school_holiday                  0\n",
       "store_type                      0\n",
       "assortment                      0\n",
       "competition_distance            0\n",
       "competition_open_since_month    0\n",
       "competition_open_since_year     0\n",
       "promo2                          0\n",
       "promo2_since_week               0\n",
       "promo2_since_year               0\n",
       "promo_interval                  0\n",
       "month_map                       0\n",
       "is_promo                        0\n",
       "dtype: int64"
      ]
     },
     "execution_count": 13,
     "metadata": {},
     "output_type": "execute_result"
    }
   ],
   "source": [
    "df1.isna().sum()"
   ]
  },
  {
   "cell_type": "markdown",
   "metadata": {
    "ExecuteTime": {
     "end_time": "2019-11-10T11:26:41.736121Z",
     "start_time": "2019-11-10T11:26:41.732986Z"
    }
   },
   "source": [
    "## 1.6. Change Data Types"
   ]
  },
  {
   "cell_type": "code",
   "execution_count": 14,
   "metadata": {
    "ExecuteTime": {
     "end_time": "2023-03-14T16:17:57.064993Z",
     "start_time": "2023-03-14T16:17:56.988857Z"
    }
   },
   "outputs": [],
   "source": [
    "# competiton\n",
    "df1['competition_open_since_month'] = df1['competition_open_since_month'].astype( 'int64' )\n",
    "df1['competition_open_since_year'] = df1['competition_open_since_year'].astype( 'int64' )\n",
    "    \n",
    "# promo2\n",
    "df1['promo2_since_week'] = df1['promo2_since_week'].astype( 'int64' )\n",
    "df1['promo2_since_year'] = df1['promo2_since_year'].astype( 'int64' )"
   ]
  },
  {
   "cell_type": "markdown",
   "metadata": {
    "ExecuteTime": {
     "end_time": "2019-11-10T11:26:41.736121Z",
     "start_time": "2019-11-10T11:26:41.732986Z"
    }
   },
   "source": [
    "## 1.7. Descriptive Statistics"
   ]
  },
  {
   "cell_type": "code",
   "execution_count": 15,
   "metadata": {
    "ExecuteTime": {
     "end_time": "2023-03-14T16:18:02.185740Z",
     "start_time": "2023-03-14T16:18:02.160946Z"
    }
   },
   "outputs": [],
   "source": [
    "num_attributes = df1.select_dtypes( include=['int64', 'float64'] )\n",
    "cat_attributes = df1.select_dtypes( exclude=['int64', 'float64', 'datetime64[ns]'] )"
   ]
  },
  {
   "cell_type": "markdown",
   "metadata": {
    "ExecuteTime": {
     "end_time": "2019-11-10T11:26:41.736121Z",
     "start_time": "2019-11-10T11:26:41.732986Z"
    }
   },
   "source": [
    "### 1.7.1. Numerical Atributes"
   ]
  },
  {
   "cell_type": "code",
   "execution_count": 16,
   "metadata": {
    "ExecuteTime": {
     "end_time": "2023-03-14T16:00:42.986054Z",
     "start_time": "2023-03-14T16:00:42.974053Z"
    }
   },
   "outputs": [],
   "source": [
    "# Central Tendency - mean, mediana \n",
    "#ct1 = pd.DataFrame( num_attributes.apply( np.mean ) ).T\n",
    "#ct2 = pd.DataFrame( num_attributes.apply( np.median ) ).T\n",
    "#\n",
    "## dispersion - std, min, max, range, skew, kurtosis\n",
    "#d1 = pd.DataFrame( num_attributes.apply( np.std ) ).T \n",
    "#d2 = pd.DataFrame( num_attributes.apply( min ) ).T \n",
    "#d3 = pd.DataFrame( num_attributes.apply( max ) ).T \n",
    "#d4 = pd.DataFrame( num_attributes.apply( lambda x: x.max() - x.min() ) ).T \n",
    "#d5 = pd.DataFrame( num_attributes.apply( lambda x: x.skew() ) ).T \n",
    "#d6 = pd.DataFrame( num_attributes.apply( lambda x: x.kurtosis() ) ).T \n",
    "#\n",
    "## concatenar\n",
    "#m = pd.concat( [d2, d3, d4, ct1, ct2, d1, d5, d6] ).T.reset_index()\n",
    "#m.columns = ['attributes', 'min', 'max', 'range', 'mean', 'median', 'std', 'skew', 'kurtosis']\n",
    "#m"
   ]
  },
  {
   "cell_type": "code",
   "execution_count": 17,
   "metadata": {
    "ExecuteTime": {
     "end_time": "2023-03-14T16:00:43.268656Z",
     "start_time": "2023-03-14T16:00:43.250657Z"
    }
   },
   "outputs": [],
   "source": [
    "# Histograma da feature competition distance\n",
    "#%matplotlib widget\n",
    "#sns.histplot(data=df1, x='competition_distance', kde=True );"
   ]
  },
  {
   "cell_type": "markdown",
   "metadata": {
    "ExecuteTime": {
     "end_time": "2019-11-10T11:26:41.736121Z",
     "start_time": "2019-11-10T11:26:41.732986Z"
    }
   },
   "source": [
    "### 1.7.2. Categorical Atributes"
   ]
  },
  {
   "cell_type": "code",
   "execution_count": 18,
   "metadata": {
    "ExecuteTime": {
     "end_time": "2023-03-14T16:00:44.066814Z",
     "start_time": "2023-03-14T16:00:44.057771Z"
    }
   },
   "outputs": [],
   "source": [
    "#Qtda de valores únicos de cada feature categórica\n",
    "#cat_attributes.apply( lambda x: x.unique().shape[0] )"
   ]
  },
  {
   "cell_type": "code",
   "execution_count": 19,
   "metadata": {
    "ExecuteTime": {
     "end_time": "2023-03-14T16:00:44.316780Z",
     "start_time": "2023-03-14T16:00:44.311808Z"
    }
   },
   "outputs": [],
   "source": [
    "# Boxplot de features categóricas em relação as vendas\n",
    "#%matplotlib widget\n",
    "#aux = df1[(df1['state_holiday'] != '0') & (df1['sales'] > 0)]\n",
    "#\n",
    "#plt.subplot( 1, 3, 1 )\n",
    "#sns.boxplot( x='state_holiday', y='sales', data=aux )\n",
    "#\n",
    "#plt.subplot( 1, 3, 2 )\n",
    "#sns.boxplot( x='store_type', y='sales', data=aux )\n",
    "#\n",
    "#plt.subplot( 1, 3, 3 )\n",
    "#sns.boxplot( x='assortment', y='sales', data=aux );"
   ]
  },
  {
   "cell_type": "code",
   "execution_count": 20,
   "metadata": {
    "ExecuteTime": {
     "end_time": "2023-03-14T16:00:44.848662Z",
     "start_time": "2023-03-14T16:00:44.836675Z"
    }
   },
   "outputs": [],
   "source": [
    "#aux.head().T"
   ]
  },
  {
   "cell_type": "markdown",
   "metadata": {
    "ExecuteTime": {
     "end_time": "2022-11-17T22:30:40.173280Z",
     "start_time": "2022-11-17T22:30:40.167279Z"
    },
    "heading_collapsed": true
   },
   "source": [
    "# 2.0 FEATURE ENGINEERING"
   ]
  },
  {
   "cell_type": "markdown",
   "metadata": {
    "hidden": true
   },
   "source": [
    "## 2.1. Mind Map Hypothesis"
   ]
  },
  {
   "cell_type": "code",
   "execution_count": 21,
   "metadata": {
    "ExecuteTime": {
     "end_time": "2023-03-14T16:18:12.646762Z",
     "start_time": "2023-03-14T16:18:12.540803Z"
    },
    "hidden": true
   },
   "outputs": [],
   "source": [
    "df2 = df1.copy()"
   ]
  },
  {
   "cell_type": "code",
   "execution_count": 22,
   "metadata": {
    "ExecuteTime": {
     "end_time": "2023-03-14T16:18:14.317969Z",
     "start_time": "2023-03-14T16:18:14.313969Z"
    },
    "hidden": true
   },
   "outputs": [],
   "source": [
    "del df1"
   ]
  },
  {
   "cell_type": "code",
   "execution_count": 23,
   "metadata": {
    "ExecuteTime": {
     "end_time": "2023-03-14T16:00:50.148980Z",
     "start_time": "2023-03-14T16:00:50.140981Z"
    },
    "hidden": true
   },
   "outputs": [],
   "source": [
    "#Image('images/DAILY_STORE_SALES_Mind_map_hip.png')"
   ]
  },
  {
   "cell_type": "markdown",
   "metadata": {
    "hidden": true
   },
   "source": [
    "##  2.2. Criação das Hipóteses"
   ]
  },
  {
   "cell_type": "markdown",
   "metadata": {
    "hidden": true
   },
   "source": [
    "### 2.2.1. Hipoteses de Loja"
   ]
  },
  {
   "cell_type": "markdown",
   "metadata": {
    "ExecuteTime": {
     "end_time": "2022-11-18T12:45:22.507096Z",
     "start_time": "2022-11-18T12:45:22.500096Z"
    },
    "hidden": true
   },
   "source": [
    "**H1.** Lojas com maior quadro de funcionarios deveriam vender mais.\n",
    "\n",
    "**H2.** Lojas com maior estoque deveriam vender mais.\n",
    "\n",
    "**H3.** Lojas com maior porte deveriam vender mais.\n",
    "\n",
    "**H4.** Lojas com competidores a mais tempo deveriam vender mais.\n",
    "\n",
    "**H5.** Lojas com maior sortimento deveriam vender mais.\n",
    "\n",
    "**H6.** Lojas com competidores mais próximos deveriam vender mais."
   ]
  },
  {
   "cell_type": "markdown",
   "metadata": {
    "hidden": true
   },
   "source": [
    "### 2.2.2. Hipoteses de Produto"
   ]
  },
  {
   "cell_type": "markdown",
   "metadata": {
    "ExecuteTime": {
     "end_time": "2022-11-18T12:59:45.103567Z",
     "start_time": "2022-11-18T12:59:45.095536Z"
    },
    "hidden": true
   },
   "source": [
    "**H1.** Lojas que investem mais em marketing deveriam vender mais.\n",
    "\n",
    "**H2.** Lojas que expoem mais os produtos nas vitrines deveriam vender mais.\n",
    "\n",
    "**H3.** Lojas que tem preços menores deveriam vender mais.\n",
    "\n",
    "**H4.** Lojas que tem preços menores por mais tempo deveriam vender mais.\n",
    "\n",
    "**H5.** Lojas com promoções mais agressivas (maiores descontos), deveriam vender mais.\n",
    "\n",
    "**H6.** Lojas com promoções ativas por mais tempo deveriam vender mais.\n",
    "\n",
    "**H7.** Lojas com mais dias de promoção devriam vender mais.\n",
    "\n",
    "**H8.** Loja com mais promoções consecutivas deveriam vender mais."
   ]
  },
  {
   "cell_type": "markdown",
   "metadata": {
    "hidden": true
   },
   "source": [
    "### 2.2.3. Hipoteses de Tempo"
   ]
  },
  {
   "cell_type": "markdown",
   "metadata": {
    "hidden": true
   },
   "source": [
    "**H1.** Lojas abertas durante o feriado de Natal deveriam vender mais.\n",
    "\n",
    "**H2.** Lojas deveriam vender mais ao longo dos anos.\n",
    "\n",
    "**H3.** Lojas deveriam vender mais no segundo semestre do ano.\n",
    "\n",
    "**H4.** Lojas deveriam vender mais depois do dia 10 de cada mês.\n",
    "\n",
    "**H5.** Lojas deveriam vender menos aos finais de semana.\n",
    "\n",
    "**H6.** Lojas deveriam vender menos durante feriados escolares."
   ]
  },
  {
   "cell_type": "markdown",
   "metadata": {
    "hidden": true
   },
   "source": [
    "## 2.3. Lista final de Hipóteses"
   ]
  },
  {
   "cell_type": "markdown",
   "metadata": {
    "ExecuteTime": {
     "end_time": "2022-11-18T14:31:30.206171Z",
     "start_time": "2022-11-18T14:31:30.193175Z"
    },
    "hidden": true
   },
   "source": [
    "**H1.** Lojas com maior sortimento deveriam vender mais.\n",
    "\n",
    "**H2.** Lojas com competidores mais próximos deveriam vender mais.\n",
    "\n",
    "**H3.** Lojas com competidores a mais tempo deveriam vender mais."
   ]
  },
  {
   "cell_type": "markdown",
   "metadata": {
    "hidden": true
   },
   "source": [
    "**H4.** Lojas com promoções ativas por mais tempo deveriam vender mais.\n",
    "\n",
    "**H5.** Lojas com mais dias de promoção devriam vender mais.\n",
    "\n",
    "**H6.** Loja com mais promoções consecutivas deveriam vender mais."
   ]
  },
  {
   "cell_type": "markdown",
   "metadata": {
    "hidden": true
   },
   "source": [
    "**H7.** Lojas abertas durante o feriado de Natal deveriam vender mais.\n",
    "\n",
    "**H8.** Lojas deveriam vender mais ao longo dos anos.\n",
    "\n",
    "**H9.** Lojas deveriam vender mais no segundo semestre do ano.\n",
    "\n",
    "**H10.** Lojas deveriam vender mais depois do dia 10 de cada mês.\n",
    "\n",
    "**H11.** Lojas deveriam vender menos aos finais de semana.\n",
    "\n",
    "**H12.** Lojas deveriam vender menos durante feriados escolares."
   ]
  },
  {
   "cell_type": "markdown",
   "metadata": {
    "hidden": true
   },
   "source": [
    "## 2.4. Feature Engineering"
   ]
  },
  {
   "cell_type": "code",
   "execution_count": 24,
   "metadata": {
    "ExecuteTime": {
     "end_time": "2023-03-14T16:19:13.111310Z",
     "start_time": "2023-03-14T16:18:20.093800Z"
    },
    "hidden": true
   },
   "outputs": [],
   "source": [
    " # year\n",
    "df2['year'] = df2['date'].dt.year\n",
    "\n",
    " # Month\n",
    "df2['month'] = df2['date'].dt.month\n",
    "\n",
    " # day\n",
    "df2['day'] = df2['date'].dt.day\n",
    "\n",
    " # week of year\n",
    "df2['week_of_year'] = df2['date'].dt.isocalendar().week.astype('int64') # estava como int32\n",
    "\n",
    " # year week\n",
    "df2['year_week'] = df2['date'].dt.strftime('%Y-%W')\n",
    "\n",
    "#competition since\n",
    "df2['competition_since'] = df2.apply(lambda x: datetime.datetime( year=x['competition_open_since_year'],month=x['competition_open_since_month'],day=1), axis=1)\n",
    "df2['competition_time_month'] = ((df2['date'] - df2['competition_since'])/30).apply(lambda x: x.days).astype( 'int64' )\n",
    "\n",
    "#Promo since\n",
    "df2['promo_since'] = df2['promo2_since_year'].astype( str ) + '-' + df2['promo2_since_week'].astype( str )\n",
    "df2['promo_since'] = df2['promo_since'].apply(lambda x: datetime.datetime.strptime( x + '-1', '%Y-%W-%w') - timedelta(days=7))\n",
    "df2['promo_time_week'] = ((df2['date'] - df2['promo_since'])/ 7).apply( lambda x: x.days).astype('int64')\n",
    "\n",
    " #assortment\n",
    "df2['assortment'] = df2['assortment'].apply(lambda x: 'basic' if x == 'a' else 'extra' if x == 'b' else 'extended' )\n",
    "\n",
    "# state holiday\n",
    "df2['state_holiday'] = df2['state_holiday'].apply(lambda x: 'public_holiday' if x == 'a' else 'easter_holiday' if x == 'b' else 'christmas' if x == 'c' else 'regular_day')"
   ]
  },
  {
   "cell_type": "markdown",
   "metadata": {
    "heading_collapsed": true
   },
   "source": [
    "# 3.0. DATA FILTERING"
   ]
  },
  {
   "cell_type": "code",
   "execution_count": 25,
   "metadata": {
    "ExecuteTime": {
     "end_time": "2023-03-14T16:19:26.119291Z",
     "start_time": "2023-03-14T16:19:25.899577Z"
    },
    "hidden": true
   },
   "outputs": [],
   "source": [
    "df3 = df2.copy()"
   ]
  },
  {
   "cell_type": "code",
   "execution_count": 26,
   "metadata": {
    "ExecuteTime": {
     "end_time": "2023-03-14T16:19:27.603883Z",
     "start_time": "2023-03-14T16:19:27.575454Z"
    },
    "hidden": true
   },
   "outputs": [],
   "source": [
    "del df2"
   ]
  },
  {
   "cell_type": "markdown",
   "metadata": {
    "hidden": true
   },
   "source": [
    "## 3.1. Filtragem de linhas "
   ]
  },
  {
   "cell_type": "code",
   "execution_count": 27,
   "metadata": {
    "ExecuteTime": {
     "end_time": "2023-03-14T16:19:30.440367Z",
     "start_time": "2023-03-14T16:19:30.318584Z"
    },
    "hidden": true
   },
   "outputs": [],
   "source": [
    "df3 = df3[(df3['open'] != 0) & (df3['sales'] > 0)]"
   ]
  },
  {
   "cell_type": "markdown",
   "metadata": {
    "hidden": true
   },
   "source": [
    "## 3.2. Filtragem de colunas"
   ]
  },
  {
   "cell_type": "code",
   "execution_count": 28,
   "metadata": {
    "ExecuteTime": {
     "end_time": "2023-03-14T16:19:31.873659Z",
     "start_time": "2023-03-14T16:19:31.782817Z"
    },
    "hidden": true
   },
   "outputs": [],
   "source": [
    "cols_drop = ['customers','open','promo_interval','month_map']\n",
    "df3 = df3.drop(cols_drop, axis=1)"
   ]
  },
  {
   "cell_type": "code",
   "execution_count": 29,
   "metadata": {
    "ExecuteTime": {
     "end_time": "2023-03-14T16:19:33.044516Z",
     "start_time": "2023-03-14T16:19:33.037520Z"
    },
    "hidden": true
   },
   "outputs": [
    {
     "data": {
      "text/plain": [
       "Index(['store', 'day_of_week', 'date', 'sales', 'promo', 'state_holiday',\n",
       "       'school_holiday', 'store_type', 'assortment', 'competition_distance',\n",
       "       'competition_open_since_month', 'competition_open_since_year', 'promo2',\n",
       "       'promo2_since_week', 'promo2_since_year', 'is_promo', 'year', 'month',\n",
       "       'day', 'week_of_year', 'year_week', 'competition_since',\n",
       "       'competition_time_month', 'promo_since', 'promo_time_week'],\n",
       "      dtype='object')"
      ]
     },
     "execution_count": 29,
     "metadata": {},
     "output_type": "execute_result"
    }
   ],
   "source": [
    "df3.columns"
   ]
  },
  {
   "cell_type": "markdown",
   "metadata": {
    "heading_collapsed": true
   },
   "source": [
    "# 4.0. EXPLORATORY DATA ANALYSIS (EDA)"
   ]
  },
  {
   "cell_type": "code",
   "execution_count": 30,
   "metadata": {
    "ExecuteTime": {
     "end_time": "2023-03-14T16:19:37.557322Z",
     "start_time": "2023-03-14T16:19:37.470658Z"
    },
    "hidden": true
   },
   "outputs": [],
   "source": [
    "df4 = df3.copy()"
   ]
  },
  {
   "cell_type": "code",
   "execution_count": 31,
   "metadata": {
    "ExecuteTime": {
     "end_time": "2023-03-14T16:19:38.045072Z",
     "start_time": "2023-03-14T16:19:38.022068Z"
    },
    "hidden": true
   },
   "outputs": [],
   "source": [
    "del df3"
   ]
  },
  {
   "cell_type": "markdown",
   "metadata": {
    "hidden": true
   },
   "source": [
    "## 4.1. Analise Univariada"
   ]
  },
  {
   "cell_type": "markdown",
   "metadata": {
    "ExecuteTime": {
     "end_time": "2022-11-27T21:49:45.427402Z",
     "start_time": "2022-11-27T21:49:45.418373Z"
    },
    "hidden": true
   },
   "source": [
    "### 4.1.1. Variável reposta"
   ]
  },
  {
   "cell_type": "code",
   "execution_count": 32,
   "metadata": {
    "ExecuteTime": {
     "end_time": "2023-03-14T16:19:42.149623Z",
     "start_time": "2023-03-14T16:19:41.474517Z"
    },
    "hidden": true
   },
   "outputs": [
    {
     "data": {
      "image/png": "[encoded data removed]",
      "text/plain": [
       "<Figure size 360x360 with 1 Axes>"
      ]
     },
     "metadata": {},
     "output_type": "display_data"
    }
   ],
   "source": [
    "sns.displot(df4['sales'],kde=False, bins=50);"
   ]
  },
  {
   "cell_type": "markdown",
   "metadata": {
    "ExecuteTime": {
     "end_time": "2022-11-27T21:49:45.427402Z",
     "start_time": "2022-11-27T21:49:45.418373Z"
    },
    "hidden": true
   },
   "source": [
    "### 4.1.2. Variáveis numéricas"
   ]
  },
  {
   "cell_type": "code",
   "execution_count": 33,
   "metadata": {
    "ExecuteTime": {
     "end_time": "2023-03-14T16:19:46.739902Z",
     "start_time": "2023-03-14T16:19:43.710288Z"
    },
    "hidden": true
   },
   "outputs": [
    {
     "data": {
      "image/png": "[encoded data removed]",
      "text/plain": [
       "<Figure size 1800x864 with 16 Axes>"
      ]
     },
     "metadata": {},
     "output_type": "display_data"
    }
   ],
   "source": [
    "num_attributes.hist(bins=35);"
   ]
  },
  {
   "cell_type": "markdown",
   "metadata": {
    "ExecuteTime": {
     "end_time": "2022-11-27T21:49:45.427402Z",
     "start_time": "2022-11-27T21:49:45.418373Z"
    },
    "hidden": true
   },
   "source": [
    "### 4.1.3. Variáveis categóricas"
   ]
  },
  {
   "cell_type": "code",
   "execution_count": 34,
   "metadata": {
    "ExecuteTime": {
     "end_time": "2023-03-14T16:02:29.633634Z",
     "start_time": "2023-03-14T16:02:29.619782Z"
    },
    "hidden": true
   },
   "outputs": [],
   "source": [
    "#state_holiday\n",
    "#df4['assortment'].drop_duplicates()"
   ]
  },
  {
   "cell_type": "code",
   "execution_count": 35,
   "metadata": {
    "ExecuteTime": {
     "end_time": "2023-03-14T16:02:29.649419Z",
     "start_time": "2023-03-14T16:02:29.635299Z"
    },
    "code_folding": [
     0
    ],
    "hidden": true
   },
   "outputs": [],
   "source": [
    "#state_holiday\n",
    "#fig = plt.figure()\n",
    "#ax = fig.add_subplot(3,2,1)\n",
    "#ax = df4[df4['state_holiday']!= 'regular_day']\n",
    "#sns.countplot(x=ax['state_holiday'])\n",
    "#\n",
    "#\n",
    "#ax2 = fig.add_subplot(3,2,2)\n",
    "#sns.kdeplot(df4[df4['state_holiday']== 'public_holiday']['sales'],shade=True, legend=True)\n",
    "#sns.kdeplot(df4[df4['state_holiday']== 'easter_holiday']['sales'],shade=True, legend=True)\n",
    "#sns.kdeplot(df4[df4['state_holiday']== 'christmas']['sales'],shade=True, legend=True)\n",
    "#handles = [mpatches.Patch(facecolor=plt.cm.Reds(100),label='public_holiday'),\n",
    "#            mpatches.Patch(facecolor=plt.cm.Blues(110),label='easter_holiday'),\n",
    "#            mpatches.Patch(facecolor=plt.cm.Greens(120),label='christmas')]\n",
    "#plt.legend(handles=handles)\n",
    "#\n",
    "#\n",
    "### store_type\n",
    "#ax3 = fig.add_subplot(3,2,3)\n",
    "#sns.countplot(df4['store_type'])\n",
    "#\n",
    "#ax4 = fig.add_subplot(3,2,4)\n",
    "#sns.kdeplot(df4[df4['store_type']== 'a']['sales'],shade=True, legend=True)\n",
    "#sns.kdeplot(df4[df4['store_type']== 'b']['sales'],shade=True, legend=True)\n",
    "#sns.kdeplot(df4[df4['store_type']== 'c']['sales'],shade=True, legend=True)\n",
    "#sns.kdeplot(df4[df4['store_type']== 'd']['sales'],shade=True, legend=True)\n",
    "#handles = [mpatches.Patch(facecolor=plt.cm.Reds(100),label='a'),\n",
    "#            mpatches.Patch(facecolor=plt.cm.Blues(110),label='b'),\n",
    "#            mpatches.Patch(facecolor=plt.cm.Greens(120),label='c'),\n",
    "#            mpatches.Patch(facecolor=plt.cm.Greens(120),label='d')]\n",
    "#plt.legend(handles=handles)\n",
    "#\n",
    "#\n",
    "## assortment\n",
    "#ax5 = fig.add_subplot(3,2,5)\n",
    "#sns.countplot(df4['assortment'])\n",
    "#\n",
    "#\n",
    "#ax6 = fig.add_subplot(3,2,6)\n",
    "#sns.kdeplot(df4[df4['assortment']== 'basic']['sales'],shade=True, legend=True)\n",
    "#sns.kdeplot(df4[df4['assortment']== 'extended']['sales'],shade=True, legend=True)\n",
    "#sns.kdeplot(df4[df4['assortment']== 'extra']['sales'],shade=True, legend=True)\n",
    "#handles = [mpatches.Patch(facecolor=plt.cm.Reds(100),label='basic'),\n",
    "#            mpatches.Patch(facecolor=plt.cm.Blues(110),label='extended'),\n",
    "#            mpatches.Patch(facecolor=plt.cm.Greens(120),label='extra')\n",
    "#            ]\n",
    "#plt.legend(handles=handles)\n",
    "#plt.show();\n",
    "#"
   ]
  },
  {
   "cell_type": "markdown",
   "metadata": {
    "hidden": true
   },
   "source": [
    "## 4.2. Analise Bivariada"
   ]
  },
  {
   "cell_type": "markdown",
   "metadata": {
    "hidden": true
   },
   "source": [
    "### **H1.** Lojas com maior sortimento deveriam vender mais. **False**(Lojas com maior sortimento vendem menos)"
   ]
  },
  {
   "cell_type": "code",
   "execution_count": 36,
   "metadata": {
    "ExecuteTime": {
     "end_time": "2023-03-14T16:02:31.159928Z",
     "start_time": "2023-03-14T16:02:31.151927Z"
    },
    "hidden": true,
    "scrolled": false
   },
   "outputs": [],
   "source": [
    "#aux1 = df4[['assortment', 'sales']].groupby('assortment').sum().reset_index()\n",
    "#sns.barplot(x='assortment',y='sales',data=aux1)\n",
    "#plt.show()\n",
    "#\n",
    "#fig = plt.figure()\n",
    "#ax7 = fig.add_subplot(2,1,1)\n",
    "#aux2 = df4[['year_week','assortment', 'sales']].groupby(['year_week','assortment']).sum().reset_index()\n",
    "#aux2.pivot(index='year_week',columns='assortment', values='sales').plot()\n",
    "#plt.show()\n",
    "#\n",
    "#ax8 = fig.add_subplot(2,1,2)\n",
    "#aux3 = aux2[aux2['assortment'] == 'extra']\n",
    "#aux3.pivot(index='year_week',columns='assortment', values='sales').plot()\n",
    "#plt.show();\n",
    "#"
   ]
  },
  {
   "cell_type": "markdown",
   "metadata": {
    "hidden": true
   },
   "source": [
    "### **H2.** Lojas com competidores mais próximos deveriam vender menos.\n",
    "**False** Lojas com competidores mais proximos vendem mais"
   ]
  },
  {
   "cell_type": "code",
   "execution_count": 37,
   "metadata": {
    "ExecuteTime": {
     "end_time": "2023-03-14T16:02:31.503591Z",
     "start_time": "2023-03-14T16:02:31.495592Z"
    },
    "hidden": true
   },
   "outputs": [],
   "source": [
    "#aux11 = df4[['competition_distance', 'sales']].groupby('competition_distance').sum().reset_index().sort_values(by='competition_distance',ascending=False)\n",
    "#fig = plt.figure()\n",
    "#ax10 = fig.add_subplot(1,3,1)\n",
    "#sns.scatterplot(x='competition_distance',y='sales', data=aux11)\n",
    "#\n",
    "#\n",
    "#ax11 = fig.add_subplot(1,3,2)\n",
    "#bins = list(np.arange(0, 20000, 1000))\n",
    "#aux11['competition_distance_binned'] = pd.cut(aux11['competition_distance'], bins=bins)\n",
    "#aux12 = aux11[['competition_distance_binned', 'sales']].groupby('competition_distance_binned').sum().reset_index()\n",
    "#sns.barplot(x='competition_distance_binned',y='sales',data=aux12)\n",
    "#plt.xticks(rotation=90)\n",
    "#\n",
    "#\n",
    "#ax12 = fig.add_subplot(1,3,3)\n",
    "#sns.heatmap(aux11.corr(method='pearson'),annot=True)\n",
    "#\n",
    "#plt.show();"
   ]
  },
  {
   "cell_type": "markdown",
   "metadata": {
    "hidden": true
   },
   "source": [
    "### **H3.** Lojas com competidores a mais tempo deveriam vender mais.\n",
    "**False** Lojas com competidores a mais tempo vendem menos."
   ]
  },
  {
   "cell_type": "code",
   "execution_count": 38,
   "metadata": {
    "ExecuteTime": {
     "end_time": "2023-03-14T16:02:32.180267Z",
     "start_time": "2023-03-14T16:02:32.171225Z"
    },
    "hidden": true
   },
   "outputs": [],
   "source": [
    "#fig = plt.figure()\n",
    "#\n",
    "#ax13 = fig.add_subplot(1,3,1)\n",
    "#aux13 = df4[['competition_time_month','sales']].groupby('competition_time_month').sum().reset_index()\n",
    "#aux14 = aux13[(aux13['competition_time_month']< 90) & (aux13['competition_time_month']!= 0)]\n",
    "#sns.barplot(x='competition_time_month',y='sales',data=aux14)\n",
    "#plt.xticks(rotation = 90);\n",
    "#\n",
    "#ax14 = fig.add_subplot(1,3,2)\n",
    "#sns.regplot(x='competition_time_month',y='sales',data=aux14)\n",
    "#\n",
    "#ax15 = fig.add_subplot(1,3,3)\n",
    "#sns.heatmap(aux13.corr(method='pearson'),annot=True)\n",
    "#plt.show();"
   ]
  },
  {
   "cell_type": "markdown",
   "metadata": {
    "hidden": true
   },
   "source": [
    "### **H4.** Lojas com promoções ativas por mais tempo deveriam vender mais.\n",
    "**False** porque lojas com promoções ativas vendem menos depois de um certo periodo de promoção."
   ]
  },
  {
   "cell_type": "code",
   "execution_count": 39,
   "metadata": {
    "ExecuteTime": {
     "end_time": "2023-03-14T16:02:32.512126Z",
     "start_time": "2023-03-14T16:02:32.506125Z"
    },
    "hidden": true
   },
   "outputs": [],
   "source": [
    "#fig = plt.figure()\n",
    "#\n",
    "##ax15 = fig.add_subplot(3,2,1)\n",
    "#aux1 = df4[['promo_time_week','sales']].groupby('promo_time_week').sum().reset_index()\n",
    "##sns.barplot(x='promo_time_week',y='sales',data=aux1)\n",
    "#\n",
    "#grid = GridSpec(2,3)\n",
    "#\n",
    "#ax15 = fig.add_subplot(grid[0,0])\n",
    "#aux2 = aux1[aux1['promo_time_week'] > 0] # promo extendida\n",
    "#sns.barplot(x='promo_time_week',y='sales',data=aux2)\n",
    "#plt.xticks(rotation=90)\n",
    "#\n",
    "#ax16 = fig.add_subplot(grid[0,1])\n",
    "#sns.regplot(x='promo_time_week',y='sales',data=aux2)\n",
    "#\n",
    "#ax17 = fig.add_subplot(grid[1,0])\n",
    "#aux3 = aux1[aux1['promo_time_week'] < 0] # promo regular\n",
    "#sns.barplot(x='promo_time_week',y='sales',data=aux3)\n",
    "#plt.xticks(rotation=90)\n",
    "#\n",
    "#ax18 = fig.add_subplot(grid[1,1])\n",
    "#sns.regplot(x='promo_time_week',y='sales',data=aux3)\n",
    "#\n",
    "#ax19 = fig.add_subplot(grid[:,2])\n",
    "#sns.heatmap(aux1.corr(method='pearson'),annot=True)\n",
    "#\n",
    "#plt.show();"
   ]
  },
  {
   "cell_type": "markdown",
   "metadata": {
    "hidden": true
   },
   "source": [
    "### <s> **H5.** Lojas com mais dias de promoção deveriam vender mais.<s/"
   ]
  },
  {
   "cell_type": "code",
   "execution_count": 40,
   "metadata": {
    "ExecuteTime": {
     "end_time": "2023-03-14T16:02:32.888949Z",
     "start_time": "2023-03-14T16:02:32.870921Z"
    },
    "hidden": true
   },
   "outputs": [],
   "source": [
    "#fig = plt.figure()\n",
    "#pr = df4.loc[df4['promo_time_week'] > 0]\n",
    "#axj = pr[['promo_time_week','sales']].groupby('promo_time_week').sum().reset_index().sort_values(by='sales',ascending=False)\n",
    "#sns.lineplot(data=axj, x='promo_time_week', y='sales') \n",
    "#plt.show();"
   ]
  },
  {
   "cell_type": "markdown",
   "metadata": {
    "hidden": true
   },
   "source": [
    "### **H6.** Loja com mais promoções consecutivas deveriam vender mais.\n",
    "**False** Lojas com mais promoções consecutivas vendem menos"
   ]
  },
  {
   "cell_type": "code",
   "execution_count": 41,
   "metadata": {
    "ExecuteTime": {
     "end_time": "2023-03-14T16:02:33.327899Z",
     "start_time": "2023-03-14T16:02:33.307893Z"
    },
    "hidden": true
   },
   "outputs": [],
   "source": [
    "#fig = plt.figure()\n",
    "#axk = (df4[(df4['promo'] == 1) & (df4['promo2'] == 1)][['year_week','sales']].groupby(['year_week']).sum().reset_index())\n",
    "#plot1 = axk.plot()\n",
    "#\n",
    "#axk2 = (df4[(df4['promo'] == 1) & (df4['promo2'] == 0)][['year_week','sales']].groupby(['year_week']).sum().reset_index())\n",
    "#axk2.plot(ax=plot1)\n",
    "#\n",
    "#plt.legend(labels=['Tradicional + Extendido', 'Extendido'])"
   ]
  },
  {
   "cell_type": "markdown",
   "metadata": {
    "hidden": true
   },
   "source": [
    "### **H7.** Lojas abertas durante o feriado de Natal deveriam vender mais.\n",
    "**False** LOjas abertas durante o natal vendem menos"
   ]
  },
  {
   "cell_type": "code",
   "execution_count": 42,
   "metadata": {
    "ExecuteTime": {
     "end_time": "2023-03-14T16:02:33.655822Z",
     "start_time": "2023-03-14T16:02:33.645821Z"
    },
    "hidden": true
   },
   "outputs": [],
   "source": [
    "#fig = plt.figure()\n",
    "#\n",
    "#axp = df4[df4['state_holiday']!= 'regular_day']\n",
    "#plt.subplot(1, 2, 1)\n",
    "#axz = axp[['state_holiday','sales']].groupby('state_holiday').sum().reset_index()\n",
    "#sns.barplot(data=axz,x='state_holiday',y='sales')\n",
    "#\n",
    "#plt.subplot(1, 2, 2)\n",
    "#axs = axp[['state_holiday','year','sales']].groupby(['year','state_holiday']).sum().reset_index()\n",
    "#sns.barplot(data=axs,x='year',y='sales',hue='state_holiday')"
   ]
  },
  {
   "cell_type": "markdown",
   "metadata": {
    "ExecuteTime": {
     "end_time": "2023-02-24T21:40:07.454704Z",
     "start_time": "2023-02-24T21:40:07.447167Z"
    },
    "hidden": true
   },
   "source": [
    "### **H8.** Lojas deveriam vender mais ao longo dos anos.\n",
    "**False** Lojas vendem menos ao longo dos anos."
   ]
  },
  {
   "cell_type": "code",
   "execution_count": 43,
   "metadata": {
    "ExecuteTime": {
     "end_time": "2023-03-14T16:02:34.500574Z",
     "start_time": "2023-03-14T16:02:34.491580Z"
    },
    "hidden": true
   },
   "outputs": [],
   "source": [
    "#fig = plt.figure()\n",
    "#\n",
    "#axd = df4[['year','sales']].groupby('year').sum().reset_index()\n",
    "#\n",
    "#plt.subplot(1,3,1)\n",
    "#sns.barplot(data=axd,x='year',y='sales')\n",
    "#\n",
    "#plt.subplot(1,3,2)\n",
    "#sns.regplot(data=axd,x='year',y='sales')\n",
    "#\n",
    "#plt.subplot(1,3,3)\n",
    "#sns.heatmap(axd.corr(method='pearson'), annot=True)\n",
    "#"
   ]
  },
  {
   "cell_type": "markdown",
   "metadata": {
    "hidden": true
   },
   "source": [
    "### **H9.** Lojas deveriam vender mais no segundo semestre do ano.\n",
    "**False** Lojas vendem menos a partir do segundo semestre do ano."
   ]
  },
  {
   "cell_type": "code",
   "execution_count": 44,
   "metadata": {
    "ExecuteTime": {
     "end_time": "2023-03-14T16:02:35.390833Z",
     "start_time": "2023-03-14T16:02:35.387751Z"
    },
    "hidden": true
   },
   "outputs": [],
   "source": [
    "#fig = plt.figure()\n",
    "#\n",
    "#axd = df4[['month','sales']].groupby('month').sum().reset_index()\n",
    "#\n",
    "#plt.subplot(1,3,1)\n",
    "#sns.barplot(data=axd,x='month',y='sales')\n",
    "#\n",
    "#plt.subplot(1,3,2)\n",
    "#sns.regplot(data=axd,x='month',y='sales')\n",
    "#\n",
    "#plt.subplot(1,3,3)\n",
    "#sns.heatmap(axd.corr(method='pearson'), annot=True)\n",
    "#"
   ]
  },
  {
   "cell_type": "markdown",
   "metadata": {
    "hidden": true
   },
   "source": [
    "### **H10.** Lojas deveriam vender mais depois do dia 10 de cada mês.\n",
    "**True** Lojas vendem mais depois do dia 10 de cada mes."
   ]
  },
  {
   "cell_type": "code",
   "execution_count": 45,
   "metadata": {
    "ExecuteTime": {
     "end_time": "2023-03-14T16:02:36.921683Z",
     "start_time": "2023-03-14T16:02:36.903632Z"
    },
    "hidden": true
   },
   "outputs": [],
   "source": [
    "#fig = plt.figure()\n",
    "#\n",
    "#axd = df4[['day','sales']].groupby('day').sum().reset_index()\n",
    "#\n",
    "#plt.subplot(2,2,1)\n",
    "#sns.barplot(data=axd,x='day',y='sales')\n",
    "#\n",
    "#plt.subplot(2,2,2)\n",
    "#sns.regplot(data=axd,x='day',y='sales')\n",
    "#\n",
    "#plt.subplot(2,2,3)\n",
    "#sns.heatmap(axd.corr(method='pearson'), annot=True)\n",
    "#\n",
    "#axd ['before_after'] = axd['day'].apply(lambda x: 'before_10' if x <= 10 else 'after_10')\n",
    "#axd2 = axd[['before_after','sales']].groupby('before_after').sum().reset_index()\n",
    "#plt.subplot(2,2,4)\n",
    "#sns.barplot(data=axd2,x='before_after',y='sales')\n",
    "#"
   ]
  },
  {
   "cell_type": "markdown",
   "metadata": {
    "hidden": true
   },
   "source": [
    "### **H11.** Lojas deveriam vender menos aos finais de semana.\n",
    "**True** Lojas vendem menos aos finais de semana."
   ]
  },
  {
   "cell_type": "code",
   "execution_count": 46,
   "metadata": {
    "ExecuteTime": {
     "end_time": "2023-03-14T16:02:37.815821Z",
     "start_time": "2023-03-14T16:02:37.804824Z"
    },
    "hidden": true
   },
   "outputs": [],
   "source": [
    "#fig = plt.figure()\n",
    "#\n",
    "#axd = df4[['day_of_week','sales']].groupby('day_of_week').sum().reset_index()\n",
    "#\n",
    "#plt.subplot(1,3,1)\n",
    "#sns.barplot(data=axd,x='day_of_week',y='sales')\n",
    "#\n",
    "#plt.subplot(1,3,2)\n",
    "#sns.regplot(data=axd,x='day_of_week',y='sales')\n",
    "#\n",
    "#plt.subplot(1,3,3)\n",
    "#sns.heatmap(axd.corr(method='pearson'), annot=True)\n",
    "#"
   ]
  },
  {
   "cell_type": "markdown",
   "metadata": {
    "hidden": true
   },
   "source": [
    "### **H12.** Lojas deveriam vender menos durante feriados escolares.\n",
    "**True** Lojas vendem menos durante feriados escolares.(exceto mês de agosto)"
   ]
  },
  {
   "cell_type": "code",
   "execution_count": 47,
   "metadata": {
    "ExecuteTime": {
     "end_time": "2023-03-14T16:02:38.581254Z",
     "start_time": "2023-03-14T16:02:38.576271Z"
    },
    "hidden": true
   },
   "outputs": [],
   "source": [
    "#fig = plt.figure()\n",
    "#\n",
    "#axc = df4[['school_holiday', 'sales']].groupby('school_holiday').sum().reset_index()\n",
    "#plt.subplot(2,1,1)\n",
    "#sns.barplot(x= 'school_holiday',y='sales',data= axc)\n",
    "#\n",
    "#\n",
    "#axc2 = df4[['month','school_holiday', 'sales']].groupby(['month','school_holiday']).sum().reset_index()\n",
    "#plt.subplot(2,1,2)\n",
    "#sns.barplot(x= 'month',y='sales',hue='school_holiday',data= axc2)"
   ]
  },
  {
   "cell_type": "markdown",
   "metadata": {
    "hidden": true
   },
   "source": [
    "## 4.3. Analise Multivariada"
   ]
  },
  {
   "cell_type": "markdown",
   "metadata": {
    "hidden": true
   },
   "source": [
    "### 4.3.1 Atributos numéricos"
   ]
  },
  {
   "cell_type": "code",
   "execution_count": 48,
   "metadata": {
    "ExecuteTime": {
     "end_time": "2023-03-14T16:02:40.520390Z",
     "start_time": "2023-03-14T16:02:40.507342Z"
    },
    "hidden": true
   },
   "outputs": [],
   "source": [
    "#fig = plt.figure()\n",
    "#correlation = num_attributes.corr(method= 'pearson')\n",
    "#sns.heatmap(correlation, annot=True);"
   ]
  },
  {
   "cell_type": "markdown",
   "metadata": {
    "ExecuteTime": {
     "end_time": "2023-02-25T20:52:04.425399Z",
     "start_time": "2023-02-25T20:52:04.409399Z"
    },
    "hidden": true
   },
   "source": [
    "### 4.3.2 Atributos categóricos"
   ]
  },
  {
   "cell_type": "code",
   "execution_count": 49,
   "metadata": {
    "ExecuteTime": {
     "end_time": "2023-03-14T16:02:41.478652Z",
     "start_time": "2023-03-14T16:02:41.469625Z"
    },
    "hidden": true
   },
   "outputs": [],
   "source": [
    "# categorical variables only\n",
    "#a = df4.select_dtypes(include='object')"
   ]
  },
  {
   "cell_type": "code",
   "execution_count": 50,
   "metadata": {
    "ExecuteTime": {
     "end_time": "2023-03-14T16:02:42.262840Z",
     "start_time": "2023-03-14T16:02:42.255826Z"
    },
    "hidden": true
   },
   "outputs": [],
   "source": [
    "# Cramer's v dataset created\n",
    "#a1 = cramer_v(a['state_holiday'],a['state_holiday'])\n",
    "#a2 = cramer_v(a['state_holiday'],a['store_type'])\n",
    "#a3 = cramer_v(a['state_holiday'],a['assortment'])\n",
    "#\n",
    "#a4 = cramer_v(a['store_type'],a['state_holiday'])\n",
    "#a5 = cramer_v(a['store_type'],a['store_type'])\n",
    "#a6 = cramer_v(a['store_type'],a['assortment'])\n",
    "#\n",
    "#a7 = cramer_v(a['assortment'],a['state_holiday'])\n",
    "#a8 = cramer_v(a['assortment'],a['store_type'])\n",
    "#a9 = cramer_v(a['assortment'],a['assortment'])\n",
    "#\n",
    "#cramer = pd.DataFrame ({'state_holiday': [a1, a2, a3],\n",
    "#               'store_type': [a3, a4, a5],\n",
    "#               'assortment': [a6, a7, a8]\n",
    "#\n",
    "#})\n",
    "#\n",
    "#cramer = cramer.set_index(cramer.columns)"
   ]
  },
  {
   "cell_type": "code",
   "execution_count": 51,
   "metadata": {
    "ExecuteTime": {
     "end_time": "2023-03-14T16:02:42.846518Z",
     "start_time": "2023-03-14T16:02:42.841520Z"
    },
    "hidden": true
   },
   "outputs": [],
   "source": [
    "# Cramer's correlation from categorical variables\n",
    "#fig = plt.figure()\n",
    "#sns.heatmap(cramer, annot=True)\n",
    "#plt.show()"
   ]
  },
  {
   "cell_type": "markdown",
   "metadata": {
    "heading_collapsed": true
   },
   "source": [
    "# 5.0. DATA PREPARATION"
   ]
  },
  {
   "cell_type": "code",
   "execution_count": 52,
   "metadata": {
    "ExecuteTime": {
     "end_time": "2023-03-14T19:12:01.538001Z",
     "start_time": "2023-03-14T19:12:01.465819Z"
    },
    "hidden": true
   },
   "outputs": [],
   "source": [
    "df5 = df4.copy()"
   ]
  },
  {
   "cell_type": "markdown",
   "metadata": {
    "hidden": true
   },
   "source": [
    "## 5.1. Normalization"
   ]
  },
  {
   "cell_type": "markdown",
   "metadata": {
    "ExecuteTime": {
     "end_time": "2023-03-14T14:14:18.594575Z",
     "start_time": "2023-03-14T14:14:18.588609Z"
    },
    "hidden": true
   },
   "source": [
    "#### There's no variables with gaussian distribution so I skipped this step."
   ]
  },
  {
   "cell_type": "markdown",
   "metadata": {
    "hidden": true
   },
   "source": [
    "## 5.2. Rescaling"
   ]
  },
  {
   "cell_type": "code",
   "execution_count": 53,
   "metadata": {
    "ExecuteTime": {
     "end_time": "2023-03-14T19:55:05.232400Z",
     "start_time": "2023-03-14T19:55:05.070255Z"
    },
    "hidden": true
   },
   "outputs": [],
   "source": [
    "rs = RobustScaler()\n",
    "mms = MinMaxScaler()\n",
    "\n",
    "# competition distance \n",
    "df5['competition_distance'] = rs.fit_transform(df5['competition_distance'].values.reshape(-1,1) )\n",
    "# competition time month\n",
    "df5['competition_time_month'] = rs.fit_transform(df5['competition_time_month'].values.reshape(-1,1) )\n",
    "## promo time week\n",
    "df5['promo_time_week'] = mms.fit_transform(df5['promo_time_week'].values.reshape(-1,1) )\n",
    "## year\n",
    "df5['year'] = mms.fit_transform(df5['year'].values.reshape(-1,1) )"
   ]
  },
  {
   "cell_type": "markdown",
   "metadata": {
    "hidden": true
   },
   "source": [
    "## 5.3 Transformation"
   ]
  },
  {
   "cell_type": "markdown",
   "metadata": {
    "heading_collapsed": true,
    "hidden": true
   },
   "source": [
    "### 5.3.1 Encoding"
   ]
  },
  {
   "cell_type": "code",
   "execution_count": 54,
   "metadata": {
    "ExecuteTime": {
     "end_time": "2023-03-14T21:28:58.199119Z",
     "start_time": "2023-03-14T21:28:57.835216Z"
    },
    "hidden": true
   },
   "outputs": [],
   "source": [
    "# state_holiday - One hot encoding (dummie)\n",
    "df5 = pd.get_dummies(df5,prefix=['state_holiday'],columns=['state_holiday'])\n",
    "\n",
    "# store_type - label encoding\n",
    "le = LabelEncoder()\n",
    "df5['store_type'] = le.fit_transform(df5['store_type'])\n",
    "\n",
    "# assortment - Ordinal Encoding\n",
    "assortment_dict = {'basic': 1, 'extra': 2, 'extended': 3 }\n",
    "df5['assortment'] = df5['assortment'].map(assortment_dict)"
   ]
  },
  {
   "cell_type": "markdown",
   "metadata": {
    "hidden": true
   },
   "source": [
    "### 5.3.2 Response variable transform"
   ]
  },
  {
   "cell_type": "code",
   "execution_count": 55,
   "metadata": {
    "ExecuteTime": {
     "end_time": "2023-03-14T21:41:28.722578Z",
     "start_time": "2023-03-14T21:41:28.676458Z"
    },
    "hidden": true
   },
   "outputs": [],
   "source": [
    "df5['sales'] = np.log1p(df5['sales'])"
   ]
  },
  {
   "cell_type": "markdown",
   "metadata": {
    "hidden": true
   },
   "source": [
    "### 5.3.3 Nature transform"
   ]
  },
  {
   "cell_type": "code",
   "execution_count": 56,
   "metadata": {
    "ExecuteTime": {
     "end_time": "2023-03-14T21:55:47.275712Z",
     "start_time": "2023-03-14T21:55:41.049300Z"
    },
    "hidden": true
   },
   "outputs": [],
   "source": [
    "# month\n",
    "df5['month_sin'] = df5['month'].apply(lambda x: np.sin(x * (2. * np.pi/ 12)))\n",
    "df5['month_cos'] = df5['month'].apply(lambda x: np.cos(x * (2. * np.pi/ 12)))\n",
    "\n",
    "# day\n",
    "df5['day_sin'] = df5['day'].apply(lambda x: np.sin(x * (2. * np.pi/ 30)))\n",
    "df5['day_cos'] = df5['day'].apply(lambda x: np.cos(x * (2. * np.pi/ 30)))\n",
    "\n",
    "# day_of_week\n",
    "df5['day_of_week_sin'] = df5['day_of_week'].apply(lambda x: np.sin(x * (2. * np.pi/ 7)))\n",
    "df5['day_of_week_cos'] = df5['day_of_week'].apply(lambda x: np.cos(x * (2. * np.pi/ 7)))\n",
    "\n",
    "# week of year\n",
    "df5['week_of_year_sin'] = df5['week_of_year'].apply(lambda x: np.sin(x * (2. * np.pi/ 52)))\n",
    "df5['week_of_year_cos'] = df5['week_of_year'].apply(lambda x: np.cos(x * (2. * np.pi/ 52)))"
   ]
  },
  {
   "cell_type": "code",
   "execution_count": 57,
   "metadata": {
    "ExecuteTime": {
     "end_time": "2023-03-14T21:59:18.131527Z",
     "start_time": "2023-03-14T21:59:18.102529Z"
    },
    "hidden": true
   },
   "outputs": [
    {
     "data": {
      "text/html": [
       "<div>\n",
       "<style scoped>\n",
       "    .dataframe tbody tr th:only-of-type {\n",
       "        vertical-align: middle;\n",
       "    }\n",
       "\n",
       "    .dataframe tbody tr th {\n",
       "        vertical-align: top;\n",
       "    }\n",
       "\n",
       "    .dataframe thead th {\n",
       "        text-align: right;\n",
       "    }\n",
       "</style>\n",
       "<table border=\"1\" class=\"dataframe\">\n",
       "  <thead>\n",
       "    <tr style=\"text-align: right;\">\n",
       "      <th></th>\n",
       "      <th>store</th>\n",
       "      <th>day_of_week</th>\n",
       "      <th>date</th>\n",
       "      <th>sales</th>\n",
       "      <th>promo</th>\n",
       "      <th>school_holiday</th>\n",
       "      <th>store_type</th>\n",
       "      <th>assortment</th>\n",
       "      <th>competition_distance</th>\n",
       "      <th>competition_open_since_month</th>\n",
       "      <th>competition_open_since_year</th>\n",
       "      <th>promo2</th>\n",
       "      <th>promo2_since_week</th>\n",
       "      <th>promo2_since_year</th>\n",
       "      <th>is_promo</th>\n",
       "      <th>year</th>\n",
       "      <th>month</th>\n",
       "      <th>day</th>\n",
       "      <th>week_of_year</th>\n",
       "      <th>year_week</th>\n",
       "      <th>competition_since</th>\n",
       "      <th>competition_time_month</th>\n",
       "      <th>promo_since</th>\n",
       "      <th>promo_time_week</th>\n",
       "      <th>state_holiday_christmas</th>\n",
       "      <th>state_holiday_easter_holiday</th>\n",
       "      <th>state_holiday_public_holiday</th>\n",
       "      <th>state_holiday_regular_day</th>\n",
       "      <th>month_sin</th>\n",
       "      <th>month_cos</th>\n",
       "      <th>day_sin</th>\n",
       "      <th>day_cos</th>\n",
       "      <th>day_of_week_sin</th>\n",
       "      <th>day_of_week_cos</th>\n",
       "      <th>week_of_year_sin</th>\n",
       "      <th>week_of_year_cos</th>\n",
       "    </tr>\n",
       "  </thead>\n",
       "  <tbody>\n",
       "    <tr>\n",
       "      <th>0</th>\n",
       "      <td>1</td>\n",
       "      <td>5</td>\n",
       "      <td>2015-07-31</td>\n",
       "      <td>8.568646</td>\n",
       "      <td>1</td>\n",
       "      <td>1</td>\n",
       "      <td>2</td>\n",
       "      <td>1</td>\n",
       "      <td>-0.170968</td>\n",
       "      <td>9</td>\n",
       "      <td>2008</td>\n",
       "      <td>0</td>\n",
       "      <td>31</td>\n",
       "      <td>2015</td>\n",
       "      <td>0</td>\n",
       "      <td>1.0</td>\n",
       "      <td>7</td>\n",
       "      <td>31</td>\n",
       "      <td>31</td>\n",
       "      <td>2015-30</td>\n",
       "      <td>2008-09-01</td>\n",
       "      <td>0.918919</td>\n",
       "      <td>2015-07-27</td>\n",
       "      <td>0.287016</td>\n",
       "      <td>0</td>\n",
       "      <td>0</td>\n",
       "      <td>0</td>\n",
       "      <td>1</td>\n",
       "      <td>-0.5</td>\n",
       "      <td>-0.866025</td>\n",
       "      <td>0.207912</td>\n",
       "      <td>0.978148</td>\n",
       "      <td>-0.974928</td>\n",
       "      <td>-0.222521</td>\n",
       "      <td>-0.568065</td>\n",
       "      <td>-0.822984</td>\n",
       "    </tr>\n",
       "    <tr>\n",
       "      <th>1</th>\n",
       "      <td>2</td>\n",
       "      <td>5</td>\n",
       "      <td>2015-07-31</td>\n",
       "      <td>8.710290</td>\n",
       "      <td>1</td>\n",
       "      <td>1</td>\n",
       "      <td>0</td>\n",
       "      <td>1</td>\n",
       "      <td>-0.283871</td>\n",
       "      <td>11</td>\n",
       "      <td>2007</td>\n",
       "      <td>1</td>\n",
       "      <td>13</td>\n",
       "      <td>2010</td>\n",
       "      <td>1</td>\n",
       "      <td>1.0</td>\n",
       "      <td>7</td>\n",
       "      <td>31</td>\n",
       "      <td>31</td>\n",
       "      <td>2015-30</td>\n",
       "      <td>2007-11-01</td>\n",
       "      <td>1.054054</td>\n",
       "      <td>2010-03-22</td>\n",
       "      <td>0.922551</td>\n",
       "      <td>0</td>\n",
       "      <td>0</td>\n",
       "      <td>0</td>\n",
       "      <td>1</td>\n",
       "      <td>-0.5</td>\n",
       "      <td>-0.866025</td>\n",
       "      <td>0.207912</td>\n",
       "      <td>0.978148</td>\n",
       "      <td>-0.974928</td>\n",
       "      <td>-0.222521</td>\n",
       "      <td>-0.568065</td>\n",
       "      <td>-0.822984</td>\n",
       "    </tr>\n",
       "    <tr>\n",
       "      <th>2</th>\n",
       "      <td>3</td>\n",
       "      <td>5</td>\n",
       "      <td>2015-07-31</td>\n",
       "      <td>9.025816</td>\n",
       "      <td>1</td>\n",
       "      <td>1</td>\n",
       "      <td>0</td>\n",
       "      <td>1</td>\n",
       "      <td>1.903226</td>\n",
       "      <td>12</td>\n",
       "      <td>2006</td>\n",
       "      <td>1</td>\n",
       "      <td>14</td>\n",
       "      <td>2011</td>\n",
       "      <td>1</td>\n",
       "      <td>1.0</td>\n",
       "      <td>7</td>\n",
       "      <td>31</td>\n",
       "      <td>31</td>\n",
       "      <td>2015-30</td>\n",
       "      <td>2006-12-01</td>\n",
       "      <td>1.202703</td>\n",
       "      <td>2011-03-28</td>\n",
       "      <td>0.801822</td>\n",
       "      <td>0</td>\n",
       "      <td>0</td>\n",
       "      <td>0</td>\n",
       "      <td>1</td>\n",
       "      <td>-0.5</td>\n",
       "      <td>-0.866025</td>\n",
       "      <td>0.207912</td>\n",
       "      <td>0.978148</td>\n",
       "      <td>-0.974928</td>\n",
       "      <td>-0.222521</td>\n",
       "      <td>-0.568065</td>\n",
       "      <td>-0.822984</td>\n",
       "    </tr>\n",
       "    <tr>\n",
       "      <th>3</th>\n",
       "      <td>4</td>\n",
       "      <td>5</td>\n",
       "      <td>2015-07-31</td>\n",
       "      <td>9.546527</td>\n",
       "      <td>1</td>\n",
       "      <td>1</td>\n",
       "      <td>2</td>\n",
       "      <td>3</td>\n",
       "      <td>-0.275806</td>\n",
       "      <td>9</td>\n",
       "      <td>2009</td>\n",
       "      <td>0</td>\n",
       "      <td>31</td>\n",
       "      <td>2015</td>\n",
       "      <td>0</td>\n",
       "      <td>1.0</td>\n",
       "      <td>7</td>\n",
       "      <td>31</td>\n",
       "      <td>31</td>\n",
       "      <td>2015-30</td>\n",
       "      <td>2009-09-01</td>\n",
       "      <td>0.743243</td>\n",
       "      <td>2015-07-27</td>\n",
       "      <td>0.287016</td>\n",
       "      <td>0</td>\n",
       "      <td>0</td>\n",
       "      <td>0</td>\n",
       "      <td>1</td>\n",
       "      <td>-0.5</td>\n",
       "      <td>-0.866025</td>\n",
       "      <td>0.207912</td>\n",
       "      <td>0.978148</td>\n",
       "      <td>-0.974928</td>\n",
       "      <td>-0.222521</td>\n",
       "      <td>-0.568065</td>\n",
       "      <td>-0.822984</td>\n",
       "    </tr>\n",
       "    <tr>\n",
       "      <th>4</th>\n",
       "      <td>5</td>\n",
       "      <td>5</td>\n",
       "      <td>2015-07-31</td>\n",
       "      <td>8.481151</td>\n",
       "      <td>1</td>\n",
       "      <td>1</td>\n",
       "      <td>0</td>\n",
       "      <td>1</td>\n",
       "      <td>4.448387</td>\n",
       "      <td>4</td>\n",
       "      <td>2015</td>\n",
       "      <td>0</td>\n",
       "      <td>31</td>\n",
       "      <td>2015</td>\n",
       "      <td>0</td>\n",
       "      <td>1.0</td>\n",
       "      <td>7</td>\n",
       "      <td>31</td>\n",
       "      <td>31</td>\n",
       "      <td>2015-30</td>\n",
       "      <td>2015-04-01</td>\n",
       "      <td>-0.162162</td>\n",
       "      <td>2015-07-27</td>\n",
       "      <td>0.287016</td>\n",
       "      <td>0</td>\n",
       "      <td>0</td>\n",
       "      <td>0</td>\n",
       "      <td>1</td>\n",
       "      <td>-0.5</td>\n",
       "      <td>-0.866025</td>\n",
       "      <td>0.207912</td>\n",
       "      <td>0.978148</td>\n",
       "      <td>-0.974928</td>\n",
       "      <td>-0.222521</td>\n",
       "      <td>-0.568065</td>\n",
       "      <td>-0.822984</td>\n",
       "    </tr>\n",
       "  </tbody>\n",
       "</table>\n",
       "</div>"
      ],
      "text/plain": [
       "   store  day_of_week       date     sales  promo  school_holiday  store_type  assortment  competition_distance  competition_open_since_month  competition_open_since_year  promo2  promo2_since_week  promo2_since_year  is_promo  year  month  day  week_of_year year_week competition_since  competition_time_month promo_since  promo_time_week  state_holiday_christmas  state_holiday_easter_holiday  state_holiday_public_holiday  state_holiday_regular_day  month_sin  month_cos   day_sin   day_cos  day_of_week_sin  day_of_week_cos  week_of_year_sin  week_of_year_cos\n",
       "0      1            5 2015-07-31  8.568646      1               1           2           1             -0.170968                             9                         2008       0                 31               2015         0   1.0      7   31            31   2015-30        2008-09-01                0.918919  2015-07-27         0.287016                        0                             0                             0                          1       -0.5  -0.866025  0.207912  0.978148        -0.974928        -0.222521         -0.568065         -0.822984\n",
       "1      2            5 2015-07-31  8.710290      1               1           0           1             -0.283871                            11                         2007       1                 13               2010         1   1.0      7   31            31   2015-30        2007-11-01                1.054054  2010-03-22         0.922551                        0                             0                             0                          1       -0.5  -0.866025  0.207912  0.978148        -0.974928        -0.222521         -0.568065         -0.822984\n",
       "2      3            5 2015-07-31  9.025816      1               1           0           1              1.903226                            12                         2006       1                 14               2011         1   1.0      7   31            31   2015-30        2006-12-01                1.202703  2011-03-28         0.801822                        0                             0                             0                          1       -0.5  -0.866025  0.207912  0.978148        -0.974928        -0.222521         -0.568065         -0.822984\n",
       "3      4            5 2015-07-31  9.546527      1               1           2           3             -0.275806                             9                         2009       0                 31               2015         0   1.0      7   31            31   2015-30        2009-09-01                0.743243  2015-07-27         0.287016                        0                             0                             0                          1       -0.5  -0.866025  0.207912  0.978148        -0.974928        -0.222521         -0.568065         -0.822984\n",
       "4      5            5 2015-07-31  8.481151      1               1           0           1              4.448387                             4                         2015       0                 31               2015         0   1.0      7   31            31   2015-30        2015-04-01               -0.162162  2015-07-27         0.287016                        0                             0                             0                          1       -0.5  -0.866025  0.207912  0.978148        -0.974928        -0.222521         -0.568065         -0.822984"
      ]
     },
     "execution_count": 57,
     "metadata": {},
     "output_type": "execute_result"
    }
   ],
   "source": [
    "df5.head()"
   ]
  },
  {
   "cell_type": "markdown",
   "metadata": {
    "heading_collapsed": true
   },
   "source": [
    "# 6.0. FEATURE SELECTION"
   ]
  },
  {
   "cell_type": "code",
   "execution_count": 58,
   "metadata": {
    "hidden": true
   },
   "outputs": [],
   "source": [
    "df6 = df5.copy()"
   ]
  },
  {
   "cell_type": "code",
   "execution_count": 59,
   "metadata": {
    "hidden": true
   },
   "outputs": [],
   "source": [
    "del df5 "
   ]
  },
  {
   "cell_type": "markdown",
   "metadata": {
    "hidden": true
   },
   "source": [
    "### 6.1. Split train test"
   ]
  },
  {
   "cell_type": "code",
   "execution_count": 60,
   "metadata": {
    "hidden": true
   },
   "outputs": [],
   "source": [
    "cols_drop = ['week_of_year', 'day', 'month', 'day_of_week', 'promo_since','competition_since','year_week']\n",
    "df6 = df6.drop(cols_drop, axis= 1)"
   ]
  },
  {
   "cell_type": "code",
   "execution_count": 61,
   "metadata": {
    "hidden": true
   },
   "outputs": [
    {
     "data": {
      "text/plain": [
       "Timestamp('2015-06-19 00:00:00')"
      ]
     },
     "execution_count": 61,
     "metadata": {},
     "output_type": "execute_result"
    }
   ],
   "source": [
    "df6[['store','date']].groupby('store').max().reset_index()['date'][0] - datetime.timedelta(days=7*6)"
   ]
  },
  {
   "cell_type": "code",
   "execution_count": 62,
   "metadata": {
    "hidden": true
   },
   "outputs": [
    {
     "name": "stdout",
     "output_type": "stream",
     "text": [
      "Train Min. Date: 2013-01-01 00:00:00\n",
      "Train Max. Date: 2015-06-18 00:00:00\n",
      "\n",
      "Test Min. Date: 2015-06-19 00:00:00\n",
      "Test Max. Date: 2015-07-31 00:00:00\n"
     ]
    }
   ],
   "source": [
    "# train and test datasets\n",
    "X_train = df6[df6['date'] < '2015-06-19']\n",
    "y_train = X_train['sales']\n",
    "\n",
    "X_test = df6[df6['date'] >= '2015-06-19']\n",
    "y_test = X_test['sales']\n",
    "\n",
    "print('Train Min. Date: {}'.format(X_train['date'].min()))\n",
    "print('Train Max. Date: {}'.format(X_train['date'].max()))\n",
    "\n",
    "print('\\nTest Min. Date: {}'.format(X_test['date'].min()))\n",
    "print('Test Max. Date: {}'.format(X_test['date'].max()))"
   ]
  },
  {
   "cell_type": "markdown",
   "metadata": {
    "hidden": true
   },
   "source": [
    "### 6.2. Boruta as feature selector"
   ]
  },
  {
   "cell_type": "code",
   "execution_count": null,
   "metadata": {
    "hidden": true
   },
   "outputs": [],
   "source": []
  },
  {
   "cell_type": "code",
   "execution_count": 63,
   "metadata": {
    "hidden": true
   },
   "outputs": [],
   "source": [
    "# training test for boruta\n",
    "#X_train_n = X_train.drop(['date','sales'], axis=1).values\n",
    "#y_train_n = y_train.values.ravel()\n",
    "\n",
    "\n",
    "# define random forest \n",
    "#rf = RandomForestRegressor ( n_jobs= -1)\n",
    "\n",
    "\n",
    "#boruta = BorutaPy( rf, n_estimators= 'auto', verbose= 2, random_state= 42).fit( X_train_n,y_train_n)"
   ]
  },
  {
   "cell_type": "code",
   "execution_count": 71,
   "metadata": {
    "hidden": true
   },
   "outputs": [
    {
     "ename": "NameError",
     "evalue": "name 'boruta' is not defined",
     "output_type": "error",
     "traceback": [
      "\u001b[1;31m---------------------------------------------------------------------------\u001b[0m",
      "\u001b[1;31mNameError\u001b[0m                                 Traceback (most recent call last)",
      "\u001b[1;32mc:\\Users\\eujai\\repos\\ds_producao\\rossmann_store_sales_prediction_DATA_PREP.ipynb Cell 126\u001b[0m in \u001b[0;36m<cell line: 1>\u001b[1;34m()\u001b[0m\n\u001b[1;32m----> <a href='vscode-notebook-cell:/c%3A/Users/eujai/repos/ds_producao/rossmann_store_sales_prediction_DATA_PREP.ipynb#Y236sZmlsZQ%3D%3D?line=0'>1</a>\u001b[0m cols_selected \u001b[39m=\u001b[39m boruta\u001b[39m.\u001b[39msupport_\u001b[39m.\u001b[39mtolist()\n\u001b[0;32m      <a href='vscode-notebook-cell:/c%3A/Users/eujai/repos/ds_producao/rossmann_store_sales_prediction_DATA_PREP.ipynb#Y236sZmlsZQ%3D%3D?line=2'>3</a>\u001b[0m \u001b[39m# best features from boruta\u001b[39;00m\n\u001b[0;32m      <a href='vscode-notebook-cell:/c%3A/Users/eujai/repos/ds_producao/rossmann_store_sales_prediction_DATA_PREP.ipynb#Y236sZmlsZQ%3D%3D?line=3'>4</a>\u001b[0m X_train_fs \u001b[39m=\u001b[39m X_train\u001b[39m.\u001b[39mdrop([\u001b[39m'\u001b[39m\u001b[39mdate\u001b[39m\u001b[39m'\u001b[39m,\u001b[39m'\u001b[39m\u001b[39msales\u001b[39m\u001b[39m'\u001b[39m], axis\u001b[39m=\u001b[39m \u001b[39m1\u001b[39m)\n",
      "\u001b[1;31mNameError\u001b[0m: name 'boruta' is not defined"
     ]
    }
   ],
   "source": [
    "cols_selected = boruta.support_.tolist()\n",
    "\n",
    "# best features from boruta\n",
    "X_train_fs = X_train.drop(['date','sales'], axis= 1)\n",
    "cols_selected_boruta = X_train_fs.iloc[:,cols_selected].columns.to_list()\n",
    "\n",
    "cols_not_selected_boruta = list(np.setdiff1d(X_train_fs.columns, cols_selected_boruta ))"
   ]
  },
  {
   "cell_type": "markdown",
   "metadata": {
    "hidden": true
   },
   "source": [
    "### 6.3. Manual feature selection"
   ]
  },
  {
   "cell_type": "code",
   "execution_count": 67,
   "metadata": {
    "hidden": true
   },
   "outputs": [],
   "source": [
    "cols_selected_boruta = ['store',\n",
    "                        'promo',\n",
    "                        'store_type',\n",
    "                        'assortment',\n",
    "                        'competition_distance',\n",
    "                        'competition_open_since_month',\n",
    "                        'competition_open_since_year',\n",
    "                        'promo2',\n",
    "                        'promo2_since_week',\n",
    "                        'promo2_since_year',\n",
    "                        'competition_time_month',\n",
    "                        'promo_time_week',\n",
    "                        'month_sin'\n",
    "                        'month_cos',\n",
    "                        'day_sin',\n",
    "                        'day_cos',\n",
    "                        'day_of_week_sin',\n",
    "                        'day_of_week_cos',\n",
    "                        'week_of_year_sin'\n",
    "                        'week_of_year_cos']\n",
    "\n",
    "\n",
    "# columns to add\n",
    "feat_to_add = ['date','sales']\n",
    "\n",
    "#final features\n",
    "\n",
    "#cols_selected_boruta.extend(feat_to_add)"
   ]
  },
  {
   "cell_type": "code",
   "execution_count": 68,
   "metadata": {
    "hidden": true
   },
   "outputs": [
    {
     "data": {
      "text/plain": [
       "['store',\n",
       " 'promo',\n",
       " 'store_type',\n",
       " 'assortment',\n",
       " 'competition_distance',\n",
       " 'competition_open_since_month',\n",
       " 'competition_open_since_year',\n",
       " 'promo2',\n",
       " 'promo2_since_week',\n",
       " 'promo2_since_year',\n",
       " 'competition_time_month',\n",
       " 'promo_time_week',\n",
       " 'month_sinmonth_cos',\n",
       " 'day_sin',\n",
       " 'day_cos',\n",
       " 'day_of_week_sin',\n",
       " 'day_of_week_cos',\n",
       " 'week_of_year_sinweek_of_year_cos']"
      ]
     },
     "execution_count": 68,
     "metadata": {},
     "output_type": "execute_result"
    }
   ],
   "source": [
    "cols_selected_boruta"
   ]
  },
  {
   "cell_type": "markdown",
   "metadata": {},
   "source": [
    "# 7.0. MACHINE LEARNING MODELLING"
   ]
  },
  {
   "cell_type": "markdown",
   "metadata": {},
   "source": [
    "### 7.1. Average model"
   ]
  },
  {
   "cell_type": "code",
   "execution_count": 69,
   "metadata": {},
   "outputs": [
    {
     "ename": "KeyError",
     "evalue": "\"['month_sinmonth_cos', 'week_of_year_sinweek_of_year_cos'] not in index\"",
     "output_type": "error",
     "traceback": [
      "\u001b[1;31m---------------------------------------------------------------------------\u001b[0m",
      "\u001b[1;31mKeyError\u001b[0m                                  Traceback (most recent call last)",
      "\u001b[1;32mc:\\Users\\eujai\\repos\\ds_producao\\rossmann_store_sales_prediction_DATA_PREP.ipynb Cell 132\u001b[0m in \u001b[0;36m<cell line: 1>\u001b[1;34m()\u001b[0m\n\u001b[1;32m----> <a href='vscode-notebook-cell:/c%3A/Users/eujai/repos/ds_producao/rossmann_store_sales_prediction_DATA_PREP.ipynb#Y253sZmlsZQ%3D%3D?line=0'>1</a>\u001b[0m x_train \u001b[39m=\u001b[39m X_train[cols_selected_boruta]\n\u001b[0;32m      <a href='vscode-notebook-cell:/c%3A/Users/eujai/repos/ds_producao/rossmann_store_sales_prediction_DATA_PREP.ipynb#Y253sZmlsZQ%3D%3D?line=1'>2</a>\u001b[0m x_test \u001b[39m=\u001b[39m X_test[cols_selected_boruta]\n",
      "File \u001b[1;32mc:\\Users\\eujai\\anaconda3\\envs\\ds_producao\\lib\\site-packages\\pandas\\core\\frame.py:3511\u001b[0m, in \u001b[0;36mDataFrame.__getitem__\u001b[1;34m(self, key)\u001b[0m\n\u001b[0;32m   3509\u001b[0m     \u001b[39mif\u001b[39;00m is_iterator(key):\n\u001b[0;32m   3510\u001b[0m         key \u001b[39m=\u001b[39m \u001b[39mlist\u001b[39m(key)\n\u001b[1;32m-> 3511\u001b[0m     indexer \u001b[39m=\u001b[39m \u001b[39mself\u001b[39;49m\u001b[39m.\u001b[39;49mcolumns\u001b[39m.\u001b[39;49m_get_indexer_strict(key, \u001b[39m\"\u001b[39;49m\u001b[39mcolumns\u001b[39;49m\u001b[39m\"\u001b[39;49m)[\u001b[39m1\u001b[39m]\n\u001b[0;32m   3513\u001b[0m \u001b[39m# take() does not accept boolean indexers\u001b[39;00m\n\u001b[0;32m   3514\u001b[0m \u001b[39mif\u001b[39;00m \u001b[39mgetattr\u001b[39m(indexer, \u001b[39m\"\u001b[39m\u001b[39mdtype\u001b[39m\u001b[39m\"\u001b[39m, \u001b[39mNone\u001b[39;00m) \u001b[39m==\u001b[39m \u001b[39mbool\u001b[39m:\n",
      "File \u001b[1;32mc:\\Users\\eujai\\anaconda3\\envs\\ds_producao\\lib\\site-packages\\pandas\\core\\indexes\\base.py:5782\u001b[0m, in \u001b[0;36mIndex._get_indexer_strict\u001b[1;34m(self, key, axis_name)\u001b[0m\n\u001b[0;32m   5779\u001b[0m \u001b[39melse\u001b[39;00m:\n\u001b[0;32m   5780\u001b[0m     keyarr, indexer, new_indexer \u001b[39m=\u001b[39m \u001b[39mself\u001b[39m\u001b[39m.\u001b[39m_reindex_non_unique(keyarr)\n\u001b[1;32m-> 5782\u001b[0m \u001b[39mself\u001b[39;49m\u001b[39m.\u001b[39;49m_raise_if_missing(keyarr, indexer, axis_name)\n\u001b[0;32m   5784\u001b[0m keyarr \u001b[39m=\u001b[39m \u001b[39mself\u001b[39m\u001b[39m.\u001b[39mtake(indexer)\n\u001b[0;32m   5785\u001b[0m \u001b[39mif\u001b[39;00m \u001b[39misinstance\u001b[39m(key, Index):\n\u001b[0;32m   5786\u001b[0m     \u001b[39m# GH 42790 - Preserve name from an Index\u001b[39;00m\n",
      "File \u001b[1;32mc:\\Users\\eujai\\anaconda3\\envs\\ds_producao\\lib\\site-packages\\pandas\\core\\indexes\\base.py:5845\u001b[0m, in \u001b[0;36mIndex._raise_if_missing\u001b[1;34m(self, key, indexer, axis_name)\u001b[0m\n\u001b[0;32m   5842\u001b[0m     \u001b[39mraise\u001b[39;00m \u001b[39mKeyError\u001b[39;00m(\u001b[39mf\u001b[39m\u001b[39m\"\u001b[39m\u001b[39mNone of [\u001b[39m\u001b[39m{\u001b[39;00mkey\u001b[39m}\u001b[39;00m\u001b[39m] are in the [\u001b[39m\u001b[39m{\u001b[39;00maxis_name\u001b[39m}\u001b[39;00m\u001b[39m]\u001b[39m\u001b[39m\"\u001b[39m)\n\u001b[0;32m   5844\u001b[0m not_found \u001b[39m=\u001b[39m \u001b[39mlist\u001b[39m(ensure_index(key)[missing_mask\u001b[39m.\u001b[39mnonzero()[\u001b[39m0\u001b[39m]]\u001b[39m.\u001b[39munique())\n\u001b[1;32m-> 5845\u001b[0m \u001b[39mraise\u001b[39;00m \u001b[39mKeyError\u001b[39;00m(\u001b[39mf\u001b[39m\u001b[39m\"\u001b[39m\u001b[39m{\u001b[39;00mnot_found\u001b[39m}\u001b[39;00m\u001b[39m not in index\u001b[39m\u001b[39m\"\u001b[39m)\n",
      "\u001b[1;31mKeyError\u001b[0m: \"['month_sinmonth_cos', 'week_of_year_sinweek_of_year_cos'] not in index\""
     ]
    }
   ],
   "source": [
    "x_train = X_train[cols_selected_boruta]\n",
    "x_test = X_test[cols_selected_boruta]"
   ]
  },
  {
   "cell_type": "markdown",
   "metadata": {},
   "source": [
    "### 7.2. Linear Regression Model"
   ]
  },
  {
   "cell_type": "code",
   "execution_count": null,
   "metadata": {},
   "outputs": [],
   "source": []
  },
  {
   "cell_type": "markdown",
   "metadata": {},
   "source": [
    "### 7.3. Linear Regression Regularized Model"
   ]
  },
  {
   "cell_type": "code",
   "execution_count": null,
   "metadata": {},
   "outputs": [],
   "source": []
  }
 ],
 "metadata": {
  "hide_input": false,
  "kernelspec": {
   "display_name": "Python 3 (ipykernel)",
   "language": "python",
   "name": "python3"
  },
  "language_info": {
   "codemirror_mode": {
    "name": "ipython",
    "version": 3
   },
   "file_extension": ".py",
   "mimetype": "text/x-python",
   "name": "python",
   "nbconvert_exporter": "python",
   "pygments_lexer": "ipython3",
   "version": "3.8.13"
  }
 },
 "nbformat": 4,
 "nbformat_minor": 2
}
